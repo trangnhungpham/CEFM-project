{
 "cells": [
  {
   "cell_type": "code",
   "execution_count": 1,
   "id": "a17bfe0d-b03d-4de3-9c97-64e689c32b64",
   "metadata": {},
   "outputs": [],
   "source": [
    "###Statistical tests\n",
    "#After finishing text mining,the next step is to examine whether particular content in media coverage influence its reach.\n",
    "# In particular, the following tests will be taken:\n",
    "#1. Mean comparison (ANOVA)"
   ]
  },
  {
   "cell_type": "code",
   "execution_count": 2,
   "id": "02a8937a",
   "metadata": {},
   "outputs": [],
   "source": [
    "#Loading the data"
   ]
  },
  {
   "cell_type": "code",
   "execution_count": 3,
   "id": "3e51a510-aa95-4259-9988-e8f41f75efe0",
   "metadata": {},
   "outputs": [],
   "source": [
    "import pandas as pd"
   ]
  },
  {
   "cell_type": "code",
   "execution_count": 4,
   "id": "d12cd5e5-242b-4dc0-98d5-c0bf021bca48",
   "metadata": {},
   "outputs": [],
   "source": [
    "data=pd.read_csv('Processed_1.csv')"
   ]
  },
  {
   "cell_type": "code",
   "execution_count": 5,
   "id": "25996d00-3d3b-4e71-9b6a-e0deb88b1c15",
   "metadata": {},
   "outputs": [
    {
     "data": {
      "text/plain": [
       "Index(['Unnamed: 0', 'Date', 'Headline', 'URL', 'Opening Text', 'Hit Sentence',\n",
       "       'Source', 'Country', 'Reach', 'National Viewership', 'Engagement',\n",
       "       'Sentiment', 'Alternate Date Format', 'Time', 'Social Echo Total',\n",
       "       'Girl_in_Headline', 'Girl_in_Open', 'Girl_in_Hit', 'Boy_in_Headline',\n",
       "       'Boy_in_Open', 'Boy_in_Hit', 'Women_in_Headline', 'Women_in_Open',\n",
       "       'Women_in_Hit', 'Men_in_Headline', 'Men_in_Open', 'Men_in_Hit',\n",
       "       'Female_in_Headline', 'Female_in_Hit', 'Female_in_Open', 'Female',\n",
       "       'Male_in_Headline', 'Male_in_Hit', 'Male_in_Open', 'Male',\n",
       "       'Problems_in_Headline', 'Problems_in_Open', 'Problems_in_Hit',\n",
       "       'Problems', 'Solutions_in_Headline', 'Solutions_in_Open',\n",
       "       'Solutions_in_Hit', 'Solutions', 'Activism_in_Hit',\n",
       "       'Activism_in_Headline', 'Activism_in_Open', 'Activism',\n",
       "       'Poverty_in_Open', 'Poverty_in_Hit', 'Poverty_in_Headline', 'Poverty',\n",
       "       'Norm_in_Headline', 'Norm_in_Hit', 'Norm_in_Open', 'Norm',\n",
       "       'DRR_in_Headline', 'DRR_in_Hit', 'DRR_in_Open', 'DRR', 'Month_Year'],\n",
       "      dtype='object')"
      ]
     },
     "execution_count": 5,
     "metadata": {},
     "output_type": "execute_result"
    }
   ],
   "source": [
    "data.columns"
   ]
  },
  {
   "cell_type": "code",
   "execution_count": 6,
   "id": "da59938e-5969-4bcf-bee5-c0ed99eb101c",
   "metadata": {},
   "outputs": [],
   "source": [
    "#General data: Descriptive statistics\n",
    "\n",
    "data1=data[['Date', 'Country', 'Reach', 'National Viewership', 'Engagement','Time', 'Social Echo Total','Female','Male', 'DRR', 'Norm', 'Activism', 'Problems',\n",
    "       'Solutions', 'Poverty']]"
   ]
  },
  {
   "cell_type": "code",
   "execution_count": 7,
   "id": "2b86f2e5-bcde-471b-b7e9-6b11cc45f1c2",
   "metadata": {},
   "outputs": [
    {
     "data": {
      "text/html": [
       "<div>\n",
       "<style scoped>\n",
       "    .dataframe tbody tr th:only-of-type {\n",
       "        vertical-align: middle;\n",
       "    }\n",
       "\n",
       "    .dataframe tbody tr th {\n",
       "        vertical-align: top;\n",
       "    }\n",
       "\n",
       "    .dataframe thead th {\n",
       "        text-align: right;\n",
       "    }\n",
       "</style>\n",
       "<table border=\"1\" class=\"dataframe\">\n",
       "  <thead>\n",
       "    <tr style=\"text-align: right;\">\n",
       "      <th></th>\n",
       "      <th>Reach</th>\n",
       "      <th>National Viewership</th>\n",
       "      <th>Engagement</th>\n",
       "      <th>Social Echo Total</th>\n",
       "      <th>Female</th>\n",
       "      <th>Male</th>\n",
       "      <th>DRR</th>\n",
       "      <th>Norm</th>\n",
       "      <th>Activism</th>\n",
       "      <th>Problems</th>\n",
       "      <th>Solutions</th>\n",
       "      <th>Poverty</th>\n",
       "    </tr>\n",
       "  </thead>\n",
       "  <tbody>\n",
       "    <tr>\n",
       "      <th>count</th>\n",
       "      <td>6.655400e+04</td>\n",
       "      <td>66554.0</td>\n",
       "      <td>66554.000000</td>\n",
       "      <td>66554.000000</td>\n",
       "      <td>66554.000000</td>\n",
       "      <td>66554.000000</td>\n",
       "      <td>66554.000000</td>\n",
       "      <td>66554.000000</td>\n",
       "      <td>66554.000000</td>\n",
       "      <td>66554.000000</td>\n",
       "      <td>66554.000000</td>\n",
       "      <td>66554.000000</td>\n",
       "    </tr>\n",
       "    <tr>\n",
       "      <th>mean</th>\n",
       "      <td>3.258713e+06</td>\n",
       "      <td>0.0</td>\n",
       "      <td>0.008189</td>\n",
       "      <td>11.958650</td>\n",
       "      <td>0.751856</td>\n",
       "      <td>0.091670</td>\n",
       "      <td>0.012486</td>\n",
       "      <td>0.005950</td>\n",
       "      <td>0.050786</td>\n",
       "      <td>0.143282</td>\n",
       "      <td>0.009586</td>\n",
       "      <td>0.032996</td>\n",
       "    </tr>\n",
       "    <tr>\n",
       "      <th>std</th>\n",
       "      <td>8.874540e+06</td>\n",
       "      <td>0.0</td>\n",
       "      <td>0.225110</td>\n",
       "      <td>578.384139</td>\n",
       "      <td>0.900359</td>\n",
       "      <td>0.358336</td>\n",
       "      <td>0.124321</td>\n",
       "      <td>0.084004</td>\n",
       "      <td>0.262569</td>\n",
       "      <td>0.403202</td>\n",
       "      <td>0.114851</td>\n",
       "      <td>0.207138</td>\n",
       "    </tr>\n",
       "    <tr>\n",
       "      <th>min</th>\n",
       "      <td>0.000000e+00</td>\n",
       "      <td>0.0</td>\n",
       "      <td>0.000000</td>\n",
       "      <td>0.000000</td>\n",
       "      <td>0.000000</td>\n",
       "      <td>0.000000</td>\n",
       "      <td>0.000000</td>\n",
       "      <td>0.000000</td>\n",
       "      <td>0.000000</td>\n",
       "      <td>0.000000</td>\n",
       "      <td>0.000000</td>\n",
       "      <td>0.000000</td>\n",
       "    </tr>\n",
       "    <tr>\n",
       "      <th>25%</th>\n",
       "      <td>9.655000e+02</td>\n",
       "      <td>0.0</td>\n",
       "      <td>0.000000</td>\n",
       "      <td>0.000000</td>\n",
       "      <td>0.000000</td>\n",
       "      <td>0.000000</td>\n",
       "      <td>0.000000</td>\n",
       "      <td>0.000000</td>\n",
       "      <td>0.000000</td>\n",
       "      <td>0.000000</td>\n",
       "      <td>0.000000</td>\n",
       "      <td>0.000000</td>\n",
       "    </tr>\n",
       "    <tr>\n",
       "      <th>50%</th>\n",
       "      <td>8.620000e+04</td>\n",
       "      <td>0.0</td>\n",
       "      <td>0.000000</td>\n",
       "      <td>0.000000</td>\n",
       "      <td>0.000000</td>\n",
       "      <td>0.000000</td>\n",
       "      <td>0.000000</td>\n",
       "      <td>0.000000</td>\n",
       "      <td>0.000000</td>\n",
       "      <td>0.000000</td>\n",
       "      <td>0.000000</td>\n",
       "      <td>0.000000</td>\n",
       "    </tr>\n",
       "    <tr>\n",
       "      <th>75%</th>\n",
       "      <td>1.382966e+06</td>\n",
       "      <td>0.0</td>\n",
       "      <td>0.000000</td>\n",
       "      <td>0.000000</td>\n",
       "      <td>1.000000</td>\n",
       "      <td>0.000000</td>\n",
       "      <td>0.000000</td>\n",
       "      <td>0.000000</td>\n",
       "      <td>0.000000</td>\n",
       "      <td>0.000000</td>\n",
       "      <td>0.000000</td>\n",
       "      <td>0.000000</td>\n",
       "    </tr>\n",
       "    <tr>\n",
       "      <th>max</th>\n",
       "      <td>1.933907e+08</td>\n",
       "      <td>0.0</td>\n",
       "      <td>43.000000</td>\n",
       "      <td>139911.000000</td>\n",
       "      <td>3.000000</td>\n",
       "      <td>3.000000</td>\n",
       "      <td>3.000000</td>\n",
       "      <td>3.000000</td>\n",
       "      <td>3.000000</td>\n",
       "      <td>3.000000</td>\n",
       "      <td>3.000000</td>\n",
       "      <td>3.000000</td>\n",
       "    </tr>\n",
       "  </tbody>\n",
       "</table>\n",
       "</div>"
      ],
      "text/plain": [
       "              Reach  National Viewership    Engagement  Social Echo Total  \\\n",
       "count  6.655400e+04              66554.0  66554.000000       66554.000000   \n",
       "mean   3.258713e+06                  0.0      0.008189          11.958650   \n",
       "std    8.874540e+06                  0.0      0.225110         578.384139   \n",
       "min    0.000000e+00                  0.0      0.000000           0.000000   \n",
       "25%    9.655000e+02                  0.0      0.000000           0.000000   \n",
       "50%    8.620000e+04                  0.0      0.000000           0.000000   \n",
       "75%    1.382966e+06                  0.0      0.000000           0.000000   \n",
       "max    1.933907e+08                  0.0     43.000000      139911.000000   \n",
       "\n",
       "             Female          Male           DRR          Norm      Activism  \\\n",
       "count  66554.000000  66554.000000  66554.000000  66554.000000  66554.000000   \n",
       "mean       0.751856      0.091670      0.012486      0.005950      0.050786   \n",
       "std        0.900359      0.358336      0.124321      0.084004      0.262569   \n",
       "min        0.000000      0.000000      0.000000      0.000000      0.000000   \n",
       "25%        0.000000      0.000000      0.000000      0.000000      0.000000   \n",
       "50%        0.000000      0.000000      0.000000      0.000000      0.000000   \n",
       "75%        1.000000      0.000000      0.000000      0.000000      0.000000   \n",
       "max        3.000000      3.000000      3.000000      3.000000      3.000000   \n",
       "\n",
       "           Problems     Solutions       Poverty  \n",
       "count  66554.000000  66554.000000  66554.000000  \n",
       "mean       0.143282      0.009586      0.032996  \n",
       "std        0.403202      0.114851      0.207138  \n",
       "min        0.000000      0.000000      0.000000  \n",
       "25%        0.000000      0.000000      0.000000  \n",
       "50%        0.000000      0.000000      0.000000  \n",
       "75%        0.000000      0.000000      0.000000  \n",
       "max        3.000000      3.000000      3.000000  "
      ]
     },
     "execution_count": 7,
     "metadata": {},
     "output_type": "execute_result"
    }
   ],
   "source": [
    "data1.describe()"
   ]
  },
  {
   "cell_type": "code",
   "execution_count": 8,
   "id": "ce243cfe",
   "metadata": {},
   "outputs": [
    {
     "data": {
      "text/plain": [
       "Country\n",
       "India               44070\n",
       "Bangladesh           4239\n",
       "Australia            3894\n",
       "Pakistan             3181\n",
       "Malaysia             2349\n",
       "Philippines          1592\n",
       "New Zealand          1340\n",
       "Singapore             975\n",
       "Vietnam               892\n",
       "Indonesia             820\n",
       "Nepal                 607\n",
       "Hong Kong             592\n",
       "China                 582\n",
       "Gambia                337\n",
       "Thailand              255\n",
       "Japan                 138\n",
       "Cambodia              119\n",
       "South Korea            90\n",
       "Afghanistan            88\n",
       "Laos                   83\n",
       "Taiwan                 81\n",
       "Macao                  52\n",
       "Fiji                   50\n",
       "Myanmar                34\n",
       "Brunei                 29\n",
       "Maldives               25\n",
       "Papua New Guinea       18\n",
       "Tonga                   6\n",
       "Vanuatu                 6\n",
       "Bhutan                  3\n",
       "Cameroon                3\n",
       "Solomon Islands         1\n",
       "North Korea             1\n",
       "Switzerland             1\n",
       "Denmark                 1\n",
       "Name: count, dtype: int64"
      ]
     },
     "execution_count": 8,
     "metadata": {},
     "output_type": "execute_result"
    }
   ],
   "source": [
    "#Check the country of publication\n",
    "data1['Country'].value_counts()"
   ]
  },
  {
   "cell_type": "code",
   "execution_count": 9,
   "id": "5b526305",
   "metadata": {},
   "outputs": [
    {
     "data": {
      "text/plain": [
       "Date\n",
       "2022    19286\n",
       "2023    18515\n",
       "2021    15196\n",
       "2020    13557\n",
       "Name: count, dtype: int64"
      ]
     },
     "execution_count": 9,
     "metadata": {},
     "output_type": "execute_result"
    }
   ],
   "source": [
    "#Check change of coverage by time\n",
    "pd.to_datetime(data1['Date']).dt.year.value_counts()"
   ]
  },
  {
   "cell_type": "code",
   "execution_count": 10,
   "id": "5c383152",
   "metadata": {},
   "outputs": [],
   "source": [
    "# It's apparent that the number of coverage increased each year (2023 data is cut off at August)"
   ]
  },
  {
   "cell_type": "code",
   "execution_count": 11,
   "id": "7f5a7b37",
   "metadata": {},
   "outputs": [
    {
     "name": "stderr",
     "output_type": "stream",
     "text": [
      "C:\\Users\\lenovo\\AppData\\Local\\Temp\\ipykernel_18704\\3616717884.py:2: SettingWithCopyWarning: \n",
      "A value is trying to be set on a copy of a slice from a DataFrame.\n",
      "Try using .loc[row_indexer,col_indexer] = value instead\n",
      "\n",
      "See the caveats in the documentation: https://pandas.pydata.org/pandas-docs/stable/user_guide/indexing.html#returning-a-view-versus-a-copy\n",
      "  data1['Date'] = pd.to_datetime(data1['Date'])\n",
      "C:\\Users\\lenovo\\AppData\\Local\\Temp\\ipykernel_18704\\3616717884.py:3: SettingWithCopyWarning: \n",
      "A value is trying to be set on a copy of a slice from a DataFrame.\n",
      "Try using .loc[row_indexer,col_indexer] = value instead\n",
      "\n",
      "See the caveats in the documentation: https://pandas.pydata.org/pandas-docs/stable/user_guide/indexing.html#returning-a-view-versus-a-copy\n",
      "  data1['Year'] = data1['Date'].dt.year\n"
     ]
    },
    {
     "data": {
      "text/html": [
       "<div>\n",
       "<style scoped>\n",
       "    .dataframe tbody tr th:only-of-type {\n",
       "        vertical-align: middle;\n",
       "    }\n",
       "\n",
       "    .dataframe tbody tr th {\n",
       "        vertical-align: top;\n",
       "    }\n",
       "\n",
       "    .dataframe thead th {\n",
       "        text-align: right;\n",
       "    }\n",
       "</style>\n",
       "<table border=\"1\" class=\"dataframe\">\n",
       "  <thead>\n",
       "    <tr style=\"text-align: right;\">\n",
       "      <th></th>\n",
       "      <th>Year</th>\n",
       "      <th>Reach</th>\n",
       "      <th>Engagement</th>\n",
       "      <th>Social Echo Total</th>\n",
       "    </tr>\n",
       "  </thead>\n",
       "  <tbody>\n",
       "    <tr>\n",
       "      <th>0</th>\n",
       "      <td>2020</td>\n",
       "      <td>2.767385e+06</td>\n",
       "      <td>0.000000</td>\n",
       "      <td>0.014089</td>\n",
       "    </tr>\n",
       "    <tr>\n",
       "      <th>1</th>\n",
       "      <td>2021</td>\n",
       "      <td>3.915787e+06</td>\n",
       "      <td>0.000000</td>\n",
       "      <td>0.000526</td>\n",
       "    </tr>\n",
       "    <tr>\n",
       "      <th>2</th>\n",
       "      <td>2022</td>\n",
       "      <td>2.837846e+06</td>\n",
       "      <td>0.013326</td>\n",
       "      <td>28.783574</td>\n",
       "    </tr>\n",
       "    <tr>\n",
       "      <th>3</th>\n",
       "      <td>2023</td>\n",
       "      <td>3.517577e+06</td>\n",
       "      <td>0.015555</td>\n",
       "      <td>12.993627</td>\n",
       "    </tr>\n",
       "  </tbody>\n",
       "</table>\n",
       "</div>"
      ],
      "text/plain": [
       "   Year         Reach  Engagement  Social Echo Total\n",
       "0  2020  2.767385e+06    0.000000           0.014089\n",
       "1  2021  3.915787e+06    0.000000           0.000526\n",
       "2  2022  2.837846e+06    0.013326          28.783574\n",
       "3  2023  3.517577e+06    0.015555          12.993627"
      ]
     },
     "execution_count": 11,
     "metadata": {},
     "output_type": "execute_result"
    }
   ],
   "source": [
    "#Check changes in Reach by year\n",
    "data1['Date'] = pd.to_datetime(data1['Date'])\n",
    "data1['Year'] = data1['Date'].dt.year\n",
    "data1.groupby('Year')[['Reach','Engagement','Social Echo Total']].mean().reset_index()"
   ]
  },
  {
   "cell_type": "code",
   "execution_count": 12,
   "id": "e03eb313-4156-41ab-83b8-7ac1d3662668",
   "metadata": {},
   "outputs": [],
   "source": [
    "#View plots of each variables to see & identify outliers\n",
    "#Import packages\n",
    "import numpy as np\n",
    "import seaborn as sns\n",
    "import matplotlib.pyplot as plt "
   ]
  },
  {
   "cell_type": "code",
   "execution_count": 13,
   "id": "6a6d3002",
   "metadata": {},
   "outputs": [
    {
     "data": {
      "image/png": "[encoded data removed]",
      "text/plain": [
       "<Figure size 640x480 with 1 Axes>"
      ]
     },
     "metadata": {},
     "output_type": "display_data"
    },
    {
     "data": {
      "image/png": "[encoded data removed]",
      "text/plain": [
       "<Figure size 640x480 with 1 Axes>"
      ]
     },
     "metadata": {},
     "output_type": "display_data"
    },
    {
     "data": {
      "image/png": "[encoded data removed]",
      "text/plain": [
       "<Figure size 640x480 with 1 Axes>"
      ]
     },
     "metadata": {},
     "output_type": "display_data"
    },
    {
     "data": {
      "image/png": "[encoded data removed]",
      "text/plain": [
       "<Figure size 640x480 with 1 Axes>"
      ]
     },
     "metadata": {},
     "output_type": "display_data"
    },
    {
     "data": {
      "image/png": "[encoded data removed]",
      "text/plain": [
       "<Figure size 640x480 with 1 Axes>"
      ]
     },
     "metadata": {},
     "output_type": "display_data"
    },
    {
     "data": {
      "image/png": "[encoded data removed]",
      "text/plain": [
       "<Figure size 640x480 with 1 Axes>"
      ]
     },
     "metadata": {},
     "output_type": "display_data"
    },
    {
     "data": {
      "image/png": "[encoded data removed]",
      "text/plain": [
       "<Figure size 640x480 with 1 Axes>"
      ]
     },
     "metadata": {},
     "output_type": "display_data"
    },
    {
     "data": {
      "image/png": "[encoded data removed]",
      "text/plain": [
       "<Figure size 640x480 with 1 Axes>"
      ]
     },
     "metadata": {},
     "output_type": "display_data"
    }
   ],
   "source": [
    "#Visualize all presence variable\n",
    "presence_data = data[['Female','Male', 'DRR', 'Norm', 'Activism', 'Problems',\n",
    "       'Solutions', 'Poverty']]\n",
    "for column_name in presence_data:\n",
    "    presence_data[column_name].value_counts().plot(kind='bar')\n",
    "    plt.show()"
   ]
  },
  {
   "cell_type": "code",
   "execution_count": 14,
   "id": "b5660410",
   "metadata": {},
   "outputs": [
    {
     "data": {
      "image/png": "[encoded data removed]",
      "text/plain": [
       "<Figure size 640x480 with 8 Axes>"
      ]
     },
     "metadata": {},
     "output_type": "display_data"
    }
   ],
   "source": [
    "#Another way to arrange the graph\n",
    "import math\n",
    "\n",
    "size = math.ceil(presence_data.shape[1]** (1/2))\n",
    "fig = plt.figure()\n",
    "\n",
    "for i, col in enumerate(presence_data.columns):\n",
    "    fig.add_subplot(size, size, i + 1)\n",
    "    presence_data[col].value_counts().plot(kind=\"bar\", ax=plt.gca(), title=col, rot=0)\n",
    "\n",
    "fig.tight_layout()"
   ]
  },
  {
   "cell_type": "code",
   "execution_count": 15,
   "id": "1374b14c-088c-45df-a37b-6323319c9196",
   "metadata": {},
   "outputs": [
    {
     "name": "stdout",
     "output_type": "stream",
     "text": [
      "AndersonResult(statistic=6180.593890291726, critical_values=array([0.576, 0.656, 0.787, 0.918, 1.092]), significance_level=array([15. , 10. ,  5. ,  2.5,  1. ]), fit_result=  params: FitParams(loc=0.751855636024882, scale=0.9003585886533706)\n",
      " success: True\n",
      " message: '`anderson` successfully fit the distribution to the data.')\n",
      "Probably not Gaussian at the 15.0% level\n",
      "Probably not Gaussian at the 10.0% level\n",
      "Probably not Gaussian at the 5.0% level\n",
      "Probably not Gaussian at the 2.5% level\n",
      "Probably not Gaussian at the 1.0% level\n"
     ]
    }
   ],
   "source": [
    "# Check if presence variables are normally distributed. Anderson-Darling Normality Test\n",
    "from scipy.stats import anderson\n",
    "result = anderson(data1['Female'])\n",
    "print(result)\n",
    "for i in range(len(result.critical_values)):\n",
    " sl, cv = result.significance_level[i], result.critical_values[i]\n",
    " if result.statistic < cv:\n",
    "     print('Probably Gaussian at the %.1f%% level' % (sl))\n",
    " else:\n",
    "     print('Probably not Gaussian at the %.1f%% level' % (sl))"
   ]
  },
  {
   "cell_type": "code",
   "execution_count": 16,
   "id": "4b296dcb-9c27-4cf6-b37f-84a592c29ca4",
   "metadata": {},
   "outputs": [
    {
     "name": "stderr",
     "output_type": "stream",
     "text": [
      "C:\\Users\\lenovo\\anaconda3\\Lib\\site-packages\\scipy\\stats\\_morestats.py:1816: UserWarning: p-value may not be accurate for N > 5000.\n",
      "  warnings.warn(\"p-value may not be accurate for N > 5000.\")\n"
     ]
    },
    {
     "data": {
      "text/plain": [
       "ShapiroResult(statistic=0.7734106183052063, pvalue=0.0)"
      ]
     },
     "execution_count": 16,
     "metadata": {},
     "output_type": "execute_result"
    }
   ],
   "source": [
    "#Using Shapiro-Wilk normality test\n",
    "from scipy.stats import shapiro\n",
    "shapiro(data1['Female'])"
   ]
  },
  {
   "cell_type": "code",
   "execution_count": 17,
   "id": "7901ec1f",
   "metadata": {},
   "outputs": [],
   "source": [
    "#the p-value is 0.000 which is less than the alpha(0.05) then we reject the null hypothesis i.e. \n",
    "#we have sufficient evidence to say that sample does not come from a normal distribution."
   ]
  },
  {
   "cell_type": "code",
   "execution_count": 18,
   "id": "6da954e5",
   "metadata": {},
   "outputs": [
    {
     "data": {
      "text/plain": [
       "ShapiroResult(statistic=0.27448248863220215, pvalue=0.0)"
      ]
     },
     "execution_count": 18,
     "metadata": {},
     "output_type": "execute_result"
    }
   ],
   "source": [
    "shapiro(data1['Male'])"
   ]
  },
  {
   "cell_type": "code",
   "execution_count": null,
   "id": "a7edc88e",
   "metadata": {},
   "outputs": [],
   "source": []
  },
  {
   "cell_type": "code",
   "execution_count": null,
   "id": "8b7a61dd",
   "metadata": {},
   "outputs": [],
   "source": []
  },
  {
   "cell_type": "code",
   "execution_count": null,
   "id": "fff24a44",
   "metadata": {},
   "outputs": [],
   "source": []
  },
  {
   "cell_type": "code",
   "execution_count": 19,
   "id": "707a6be9",
   "metadata": {},
   "outputs": [],
   "source": [
    "#Create a new table for value counts of variables\n",
    "s1 = pd.Series(data1[['Female']].value_counts(), name='Female')\n",
    "s2 = pd.Series(data1[['Male']].value_counts(), name='Male')\n",
    "s3 = pd.Series(data1[['DRR']].value_counts(), name='DRR')\n",
    "s4 = pd. Series(data1[['Norm']].value_counts(), name='Norm')\n",
    "s5 = pd.Series(data1[['Activism']].value_counts(), name='Activism')\n",
    "s6 = pd.Series(data1[['Problems']].value_counts(), name='Problems')\n",
    "s7 = pd.Series(data1[['Solutions']].value_counts(), name='Solutions')\n",
    "s8 = pd.Series(data1[['Poverty']].value_counts(), name='Poverty')"
   ]
  },
  {
   "cell_type": "code",
   "execution_count": 20,
   "id": "2ad59a72",
   "metadata": {},
   "outputs": [],
   "source": [
    "data_2 = pd.concat([s1, s2,s3,s4,s5,s6,s7,s8], axis=1)"
   ]
  },
  {
   "cell_type": "code",
   "execution_count": 21,
   "id": "788615ef",
   "metadata": {},
   "outputs": [
    {
     "data": {
      "text/html": [
       "<div>\n",
       "<style scoped>\n",
       "    .dataframe tbody tr th:only-of-type {\n",
       "        vertical-align: middle;\n",
       "    }\n",
       "\n",
       "    .dataframe tbody tr th {\n",
       "        vertical-align: top;\n",
       "    }\n",
       "\n",
       "    .dataframe thead th {\n",
       "        text-align: right;\n",
       "    }\n",
       "</style>\n",
       "<table border=\"1\" class=\"dataframe\">\n",
       "  <thead>\n",
       "    <tr style=\"text-align: right;\">\n",
       "      <th></th>\n",
       "      <th>Female</th>\n",
       "      <th>Male</th>\n",
       "      <th>DRR</th>\n",
       "      <th>Norm</th>\n",
       "      <th>Activism</th>\n",
       "      <th>Problems</th>\n",
       "      <th>Solutions</th>\n",
       "      <th>Poverty</th>\n",
       "    </tr>\n",
       "  </thead>\n",
       "  <tbody>\n",
       "    <tr>\n",
       "      <th>0</th>\n",
       "      <td>33878</td>\n",
       "      <td>61790</td>\n",
       "      <td>65823</td>\n",
       "      <td>66192</td>\n",
       "      <td>63791</td>\n",
       "      <td>58267</td>\n",
       "      <td>66023</td>\n",
       "      <td>64694</td>\n",
       "    </tr>\n",
       "    <tr>\n",
       "      <th>1</th>\n",
       "      <td>18717</td>\n",
       "      <td>3592</td>\n",
       "      <td>635</td>\n",
       "      <td>332</td>\n",
       "      <td>2219</td>\n",
       "      <td>7114</td>\n",
       "      <td>440</td>\n",
       "      <td>1554</td>\n",
       "    </tr>\n",
       "    <tr>\n",
       "      <th>2</th>\n",
       "      <td>10555</td>\n",
       "      <td>1007</td>\n",
       "      <td>92</td>\n",
       "      <td>26</td>\n",
       "      <td>471</td>\n",
       "      <td>1097</td>\n",
       "      <td>75</td>\n",
       "      <td>276</td>\n",
       "    </tr>\n",
       "    <tr>\n",
       "      <th>3</th>\n",
       "      <td>3404</td>\n",
       "      <td>165</td>\n",
       "      <td>4</td>\n",
       "      <td>4</td>\n",
       "      <td>73</td>\n",
       "      <td>76</td>\n",
       "      <td>16</td>\n",
       "      <td>30</td>\n",
       "    </tr>\n",
       "  </tbody>\n",
       "</table>\n",
       "</div>"
      ],
      "text/plain": [
       "   Female   Male    DRR   Norm  Activism  Problems  Solutions  Poverty\n",
       "0   33878  61790  65823  66192     63791     58267      66023    64694\n",
       "1   18717   3592    635    332      2219      7114        440     1554\n",
       "2   10555   1007     92     26       471      1097         75      276\n",
       "3    3404    165      4      4        73        76         16       30"
      ]
     },
     "execution_count": 21,
     "metadata": {},
     "output_type": "execute_result"
    }
   ],
   "source": [
    "data_2"
   ]
  },
  {
   "cell_type": "code",
   "execution_count": 22,
   "id": "0dade3e9",
   "metadata": {},
   "outputs": [],
   "source": [
    "data2=data_2.transpose()"
   ]
  },
  {
   "cell_type": "code",
   "execution_count": 23,
   "id": "fd6432a4",
   "metadata": {},
   "outputs": [
    {
     "data": {
      "text/html": [
       "<div>\n",
       "<style scoped>\n",
       "    .dataframe tbody tr th:only-of-type {\n",
       "        vertical-align: middle;\n",
       "    }\n",
       "\n",
       "    .dataframe tbody tr th {\n",
       "        vertical-align: top;\n",
       "    }\n",
       "\n",
       "    .dataframe thead tr th {\n",
       "        text-align: left;\n",
       "    }\n",
       "</style>\n",
       "<table border=\"1\" class=\"dataframe\">\n",
       "  <thead>\n",
       "    <tr>\n",
       "      <th></th>\n",
       "      <th>0</th>\n",
       "      <th>1</th>\n",
       "      <th>2</th>\n",
       "      <th>3</th>\n",
       "    </tr>\n",
       "  </thead>\n",
       "  <tbody>\n",
       "    <tr>\n",
       "      <th>Female</th>\n",
       "      <td>33878</td>\n",
       "      <td>18717</td>\n",
       "      <td>10555</td>\n",
       "      <td>3404</td>\n",
       "    </tr>\n",
       "    <tr>\n",
       "      <th>Male</th>\n",
       "      <td>61790</td>\n",
       "      <td>3592</td>\n",
       "      <td>1007</td>\n",
       "      <td>165</td>\n",
       "    </tr>\n",
       "    <tr>\n",
       "      <th>DRR</th>\n",
       "      <td>65823</td>\n",
       "      <td>635</td>\n",
       "      <td>92</td>\n",
       "      <td>4</td>\n",
       "    </tr>\n",
       "    <tr>\n",
       "      <th>Norm</th>\n",
       "      <td>66192</td>\n",
       "      <td>332</td>\n",
       "      <td>26</td>\n",
       "      <td>4</td>\n",
       "    </tr>\n",
       "    <tr>\n",
       "      <th>Activism</th>\n",
       "      <td>63791</td>\n",
       "      <td>2219</td>\n",
       "      <td>471</td>\n",
       "      <td>73</td>\n",
       "    </tr>\n",
       "    <tr>\n",
       "      <th>Problems</th>\n",
       "      <td>58267</td>\n",
       "      <td>7114</td>\n",
       "      <td>1097</td>\n",
       "      <td>76</td>\n",
       "    </tr>\n",
       "    <tr>\n",
       "      <th>Solutions</th>\n",
       "      <td>66023</td>\n",
       "      <td>440</td>\n",
       "      <td>75</td>\n",
       "      <td>16</td>\n",
       "    </tr>\n",
       "    <tr>\n",
       "      <th>Poverty</th>\n",
       "      <td>64694</td>\n",
       "      <td>1554</td>\n",
       "      <td>276</td>\n",
       "      <td>30</td>\n",
       "    </tr>\n",
       "  </tbody>\n",
       "</table>\n",
       "</div>"
      ],
      "text/plain": [
       "               0      1      2     3\n",
       "Female     33878  18717  10555  3404\n",
       "Male       61790   3592   1007   165\n",
       "DRR        65823    635     92     4\n",
       "Norm       66192    332     26     4\n",
       "Activism   63791   2219    471    73\n",
       "Problems   58267   7114   1097    76\n",
       "Solutions  66023    440     75    16\n",
       "Poverty    64694   1554    276    30"
      ]
     },
     "execution_count": 23,
     "metadata": {},
     "output_type": "execute_result"
    }
   ],
   "source": [
    "data2"
   ]
  },
  {
   "cell_type": "code",
   "execution_count": 24,
   "id": "2a28f93b",
   "metadata": {},
   "outputs": [],
   "source": [
    "#Plotting Female and Male presence"
   ]
  },
  {
   "cell_type": "code",
   "execution_count": 25,
   "id": "20a95d6e",
   "metadata": {
    "scrolled": false
   },
   "outputs": [
    {
     "data": {
      "text/plain": [
       "<Axes: xlabel='Female'>"
      ]
     },
     "execution_count": 25,
     "metadata": {},
     "output_type": "execute_result"
    },
    {
     "data": {
      "image/png": "[encoded data removed]",
      "text/plain": [
       "<Figure size 640x480 with 1 Axes>"
      ]
     },
     "metadata": {},
     "output_type": "display_data"
    }
   ],
   "source": [
    "data1['Female'].value_counts()[data1['Female'].unique()].plot(kind='bar')"
   ]
  },
  {
   "cell_type": "code",
   "execution_count": 26,
   "id": "ded71f3c",
   "metadata": {},
   "outputs": [
    {
     "data": {
      "text/plain": [
       "<Axes: xlabel='Male'>"
      ]
     },
     "execution_count": 26,
     "metadata": {},
     "output_type": "execute_result"
    },
    {
     "data": {
      "image/png": "[encoded data removed]",
      "text/plain": [
       "<Figure size 640x480 with 1 Axes>"
      ]
     },
     "metadata": {},
     "output_type": "display_data"
    }
   ],
   "source": [
    "data1['Male'].value_counts()[data1['Male'].unique()].plot(kind='bar')"
   ]
  },
  {
   "cell_type": "code",
   "execution_count": 27,
   "id": "7631923b",
   "metadata": {},
   "outputs": [
    {
     "data": {
      "image/png": "[encoded data removed]",
      "text/plain": [
       "<Figure size 640x480 with 1 Axes>"
      ]
     },
     "metadata": {},
     "output_type": "display_data"
    }
   ],
   "source": [
    "import numpy as np\n",
    "import matplotlib.pyplot as plt\n",
    "\n",
    "X = [\"No presence\", \"Present once\", \"Present twice\", \"Present thrice\"]\n",
    "\n",
    "Female = data1['Female'].value_counts()\n",
    "Female = Female.tolist()\n",
    "Male = data1['Male'].value_counts()\n",
    "Male = Male.tolist()\n",
    "\n",
    "X_axis = np.arange(len(X))\n",
    "\n",
    "plt.bar(X_axis - 0.2, Female, 0.4, label = 'Female')\n",
    "plt.bar(X_axis + 0.2, Male, 0.4, label = 'Male')\n",
    "\n",
    "plt.xticks(X_axis, X)\n",
    "plt.xlabel(\"Gender presence\")\n",
    "plt.ylabel(\"Coverage counts\")\n",
    "plt.title(\"Gender presence in media coverage\")\n",
    "\n",
    "plt.legend()\n",
    "plt.show()"
   ]
  },
  {
   "cell_type": "code",
   "execution_count": 28,
   "id": "977971c9",
   "metadata": {},
   "outputs": [
    {
     "data": {
      "text/plain": [
       "F_onewayResult(statistic=30889.973087375376, pvalue=0.0)"
      ]
     },
     "execution_count": 28,
     "metadata": {},
     "output_type": "execute_result"
    }
   ],
   "source": [
    "#We can see some apparent difference here, so let's do a mean comparison\n",
    "from scipy.stats import f_oneway\n",
    "f_oneway(data1['Female'],data1['Male'])"
   ]
  },
  {
   "cell_type": "code",
   "execution_count": 29,
   "id": "aee00172-14db-4ee0-a4b5-50b68ac199cb",
   "metadata": {},
   "outputs": [],
   "source": [
    "#the one-way ANOVA test with p-value <0.001 so it signifies that there is difference "
   ]
  },
  {
   "cell_type": "code",
   "execution_count": 30,
   "id": "01cf0089",
   "metadata": {},
   "outputs": [
    {
     "name": "stdout",
     "output_type": "stream",
     "text": [
      "stat=0.143, p=0.000\n",
      "Probably dependent\n"
     ]
    }
   ],
   "source": [
    "# Let's check if there is correlation between Female and Male presence with a Pearson's Correlation test\n",
    "from scipy.stats import pearsonr\n",
    "stat, p = pearsonr(data1['Female'], data1['Male'])\n",
    "print('stat=%.3f, p=%.3f' % (stat, p))\n",
    "if p > 0.05:\n",
    " print('Probably independent')\n",
    "else:\n",
    " print('Probably dependent')"
   ]
  },
  {
   "cell_type": "code",
   "execution_count": 31,
   "id": "e3afb21f",
   "metadata": {},
   "outputs": [
    {
     "data": {
      "text/plain": [
       "PearsonRResult(statistic=0.1430663294754249, pvalue=2.9563854949084387e-301)"
      ]
     },
     "execution_count": 31,
     "metadata": {},
     "output_type": "execute_result"
    }
   ],
   "source": [
    "#Another way to test\n",
    "import scipy\n",
    "x = data1['Female']\n",
    "y = data['Male']\n",
    "scipy.stats.pearsonr(x, y)    # Pearson's r"
   ]
  },
  {
   "cell_type": "code",
   "execution_count": 32,
   "id": "d1254036",
   "metadata": {},
   "outputs": [],
   "source": [
    "#All results show that there is positive correlation between Female and Male presence, though the correlation is really weak."
   ]
  },
  {
   "cell_type": "code",
   "execution_count": 33,
   "id": "cf1eabb6",
   "metadata": {},
   "outputs": [
    {
     "data": {
      "text/html": [
       "<div>\n",
       "<style scoped>\n",
       "    .dataframe tbody tr th:only-of-type {\n",
       "        vertical-align: middle;\n",
       "    }\n",
       "\n",
       "    .dataframe tbody tr th {\n",
       "        vertical-align: top;\n",
       "    }\n",
       "\n",
       "    .dataframe thead th {\n",
       "        text-align: right;\n",
       "    }\n",
       "</style>\n",
       "<table border=\"1\" class=\"dataframe\">\n",
       "  <thead>\n",
       "    <tr style=\"text-align: right;\">\n",
       "      <th></th>\n",
       "      <th>Female</th>\n",
       "      <th>Male</th>\n",
       "      <th>DRR</th>\n",
       "      <th>Norm</th>\n",
       "      <th>Activism</th>\n",
       "      <th>Problems</th>\n",
       "      <th>Solutions</th>\n",
       "      <th>Poverty</th>\n",
       "    </tr>\n",
       "  </thead>\n",
       "  <tbody>\n",
       "    <tr>\n",
       "      <th>Female</th>\n",
       "      <td>1.000000</td>\n",
       "      <td>0.143066</td>\n",
       "      <td>-0.019168</td>\n",
       "      <td>0.021508</td>\n",
       "      <td>-0.004848</td>\n",
       "      <td>-0.007231</td>\n",
       "      <td>-0.035990</td>\n",
       "      <td>-0.015797</td>\n",
       "    </tr>\n",
       "    <tr>\n",
       "      <th>Male</th>\n",
       "      <td>0.143066</td>\n",
       "      <td>1.000000</td>\n",
       "      <td>-0.007480</td>\n",
       "      <td>-0.004144</td>\n",
       "      <td>-0.023291</td>\n",
       "      <td>-0.053679</td>\n",
       "      <td>-0.007844</td>\n",
       "      <td>-0.027188</td>\n",
       "    </tr>\n",
       "    <tr>\n",
       "      <th>DRR</th>\n",
       "      <td>-0.019168</td>\n",
       "      <td>-0.007480</td>\n",
       "      <td>1.000000</td>\n",
       "      <td>-0.007114</td>\n",
       "      <td>-0.011601</td>\n",
       "      <td>-0.023101</td>\n",
       "      <td>0.000036</td>\n",
       "      <td>0.017843</td>\n",
       "    </tr>\n",
       "    <tr>\n",
       "      <th>Norm</th>\n",
       "      <td>0.021508</td>\n",
       "      <td>-0.004144</td>\n",
       "      <td>-0.007114</td>\n",
       "      <td>1.000000</td>\n",
       "      <td>-0.009613</td>\n",
       "      <td>0.024071</td>\n",
       "      <td>0.000317</td>\n",
       "      <td>0.011168</td>\n",
       "    </tr>\n",
       "    <tr>\n",
       "      <th>Activism</th>\n",
       "      <td>-0.004848</td>\n",
       "      <td>-0.023291</td>\n",
       "      <td>-0.011601</td>\n",
       "      <td>-0.009613</td>\n",
       "      <td>1.000000</td>\n",
       "      <td>-0.019344</td>\n",
       "      <td>0.005779</td>\n",
       "      <td>-0.015892</td>\n",
       "    </tr>\n",
       "    <tr>\n",
       "      <th>Problems</th>\n",
       "      <td>-0.007231</td>\n",
       "      <td>-0.053679</td>\n",
       "      <td>-0.023101</td>\n",
       "      <td>0.024071</td>\n",
       "      <td>-0.019344</td>\n",
       "      <td>1.000000</td>\n",
       "      <td>0.041073</td>\n",
       "      <td>0.015356</td>\n",
       "    </tr>\n",
       "    <tr>\n",
       "      <th>Solutions</th>\n",
       "      <td>-0.035990</td>\n",
       "      <td>-0.007844</td>\n",
       "      <td>0.000036</td>\n",
       "      <td>0.000317</td>\n",
       "      <td>0.005779</td>\n",
       "      <td>0.041073</td>\n",
       "      <td>1.000000</td>\n",
       "      <td>0.005652</td>\n",
       "    </tr>\n",
       "    <tr>\n",
       "      <th>Poverty</th>\n",
       "      <td>-0.015797</td>\n",
       "      <td>-0.027188</td>\n",
       "      <td>0.017843</td>\n",
       "      <td>0.011168</td>\n",
       "      <td>-0.015892</td>\n",
       "      <td>0.015356</td>\n",
       "      <td>0.005652</td>\n",
       "      <td>1.000000</td>\n",
       "    </tr>\n",
       "  </tbody>\n",
       "</table>\n",
       "</div>"
      ],
      "text/plain": [
       "             Female      Male       DRR      Norm  Activism  Problems  \\\n",
       "Female     1.000000  0.143066 -0.019168  0.021508 -0.004848 -0.007231   \n",
       "Male       0.143066  1.000000 -0.007480 -0.004144 -0.023291 -0.053679   \n",
       "DRR       -0.019168 -0.007480  1.000000 -0.007114 -0.011601 -0.023101   \n",
       "Norm       0.021508 -0.004144 -0.007114  1.000000 -0.009613  0.024071   \n",
       "Activism  -0.004848 -0.023291 -0.011601 -0.009613  1.000000 -0.019344   \n",
       "Problems  -0.007231 -0.053679 -0.023101  0.024071 -0.019344  1.000000   \n",
       "Solutions -0.035990 -0.007844  0.000036  0.000317  0.005779  0.041073   \n",
       "Poverty   -0.015797 -0.027188  0.017843  0.011168 -0.015892  0.015356   \n",
       "\n",
       "           Solutions   Poverty  \n",
       "Female     -0.035990 -0.015797  \n",
       "Male       -0.007844 -0.027188  \n",
       "DRR         0.000036  0.017843  \n",
       "Norm        0.000317  0.011168  \n",
       "Activism    0.005779 -0.015892  \n",
       "Problems    0.041073  0.015356  \n",
       "Solutions   1.000000  0.005652  \n",
       "Poverty     0.005652  1.000000  "
      ]
     },
     "execution_count": 33,
     "metadata": {},
     "output_type": "execute_result"
    }
   ],
   "source": [
    "#Form a covariance matrix of all presence variables\n",
    "presence_data.corr(method='pearson', min_periods=1, numeric_only=False)"
   ]
  },
  {
   "cell_type": "code",
   "execution_count": 34,
   "id": "a9cd12b3",
   "metadata": {},
   "outputs": [
    {
     "name": "stdout",
     "output_type": "stream",
     "text": [
      "             Female      Male       DRR      Norm  Activism  Problems  \\\n",
      "Female     1.000000  0.143066 -0.019168  0.021508 -0.004848 -0.007231   \n",
      "Male       0.143066  1.000000 -0.007480 -0.004144 -0.023291 -0.053679   \n",
      "DRR       -0.019168 -0.007480  1.000000 -0.007114 -0.011601 -0.023101   \n",
      "Norm       0.021508 -0.004144 -0.007114  1.000000 -0.009613  0.024071   \n",
      "Activism  -0.004848 -0.023291 -0.011601 -0.009613  1.000000 -0.019344   \n",
      "Problems  -0.007231 -0.053679 -0.023101  0.024071 -0.019344  1.000000   \n",
      "Solutions -0.035990 -0.007844  0.000036  0.000317  0.005779  0.041073   \n",
      "Poverty   -0.015797 -0.027188  0.017843  0.011168 -0.015892  0.015356   \n",
      "\n",
      "           Solutions   Poverty  \n",
      "Female     -0.035990 -0.015797  \n",
      "Male       -0.007844 -0.027188  \n",
      "DRR         0.000036  0.017843  \n",
      "Norm        0.000317  0.011168  \n",
      "Activism    0.005779 -0.015892  \n",
      "Problems    0.041073  0.015356  \n",
      "Solutions   1.000000  0.005652  \n",
      "Poverty     0.005652  1.000000  \n"
     ]
    },
    {
     "data": {
      "image/png": "[encoded data removed]",
      "text/plain": [
       "<Figure size 640x480 with 2 Axes>"
      ]
     },
     "metadata": {},
     "output_type": "display_data"
    }
   ],
   "source": [
    "# view a heatmap\n",
    "print(presence_data.corr()) \n",
    "  \n",
    "# plotting correlation heatmap \n",
    "dataplot = sns.heatmap(presence_data.corr(), cmap=\"YlGnBu\", annot=True) \n",
    "  \n",
    "# displaying heatmap \n",
    "plt.show() "
   ]
  },
  {
   "cell_type": "code",
   "execution_count": 35,
   "id": "2aab4bd5",
   "metadata": {},
   "outputs": [],
   "source": [
    "#The heatmap shows that except for very weak correlation between Male and Female presence, \n",
    "#there is nearly no covariance between any two presence variable."
   ]
  },
  {
   "cell_type": "code",
   "execution_count": 36,
   "id": "e95f2d97",
   "metadata": {},
   "outputs": [],
   "source": [
    "#"
   ]
  },
  {
   "cell_type": "code",
   "execution_count": 37,
   "id": "bc3e8ae2",
   "metadata": {},
   "outputs": [
    {
     "data": {
      "text/html": [
       "<div>\n",
       "<style scoped>\n",
       "    .dataframe tbody tr th:only-of-type {\n",
       "        vertical-align: middle;\n",
       "    }\n",
       "\n",
       "    .dataframe tbody tr th {\n",
       "        vertical-align: top;\n",
       "    }\n",
       "\n",
       "    .dataframe thead th {\n",
       "        text-align: right;\n",
       "    }\n",
       "</style>\n",
       "<table border=\"1\" class=\"dataframe\">\n",
       "  <thead>\n",
       "    <tr style=\"text-align: right;\">\n",
       "      <th></th>\n",
       "      <th>Female</th>\n",
       "      <th>Reach</th>\n",
       "      <th>Engagement</th>\n",
       "      <th>Social Echo Total</th>\n",
       "    </tr>\n",
       "  </thead>\n",
       "  <tbody>\n",
       "    <tr>\n",
       "      <th>0</th>\n",
       "      <td>0</td>\n",
       "      <td>3.533866e+06</td>\n",
       "      <td>0.007970</td>\n",
       "      <td>14.719228</td>\n",
       "    </tr>\n",
       "    <tr>\n",
       "      <th>1</th>\n",
       "      <td>1</td>\n",
       "      <td>2.827150e+06</td>\n",
       "      <td>0.011220</td>\n",
       "      <td>9.288561</td>\n",
       "    </tr>\n",
       "    <tr>\n",
       "      <th>2</th>\n",
       "      <td>2</td>\n",
       "      <td>2.990800e+06</td>\n",
       "      <td>0.004358</td>\n",
       "      <td>10.351682</td>\n",
       "    </tr>\n",
       "    <tr>\n",
       "      <th>3</th>\n",
       "      <td>3</td>\n",
       "      <td>3.723968e+06</td>\n",
       "      <td>0.005582</td>\n",
       "      <td>4.148649</td>\n",
       "    </tr>\n",
       "  </tbody>\n",
       "</table>\n",
       "</div>"
      ],
      "text/plain": [
       "   Female         Reach  Engagement  Social Echo Total\n",
       "0       0  3.533866e+06    0.007970          14.719228\n",
       "1       1  2.827150e+06    0.011220           9.288561\n",
       "2       2  2.990800e+06    0.004358          10.351682\n",
       "3       3  3.723968e+06    0.005582           4.148649"
      ]
     },
     "execution_count": 37,
     "metadata": {},
     "output_type": "execute_result"
    }
   ],
   "source": [
    "#Checking the influence of female presence on reach, engagement and social echo\n",
    "#Desciption of the data\n",
    "data1.groupby('Female', as_index=False)[['Reach', 'Engagement', 'Social Echo Total']].mean()"
   ]
  },
  {
   "cell_type": "code",
   "execution_count": 38,
   "id": "87ae33ac",
   "metadata": {},
   "outputs": [
    {
     "name": "stderr",
     "output_type": "stream",
     "text": [
      "C:\\Users\\lenovo\\anaconda3\\Lib\\site-packages\\seaborn\\_oldcore.py:1498: FutureWarning: is_categorical_dtype is deprecated and will be removed in a future version. Use isinstance(dtype, CategoricalDtype) instead\n",
      "  if pd.api.types.is_categorical_dtype(vector):\n",
      "C:\\Users\\lenovo\\anaconda3\\Lib\\site-packages\\seaborn\\_oldcore.py:1498: FutureWarning: is_categorical_dtype is deprecated and will be removed in a future version. Use isinstance(dtype, CategoricalDtype) instead\n",
      "  if pd.api.types.is_categorical_dtype(vector):\n",
      "C:\\Users\\lenovo\\anaconda3\\Lib\\site-packages\\seaborn\\_oldcore.py:1498: FutureWarning: is_categorical_dtype is deprecated and will be removed in a future version. Use isinstance(dtype, CategoricalDtype) instead\n",
      "  if pd.api.types.is_categorical_dtype(vector):\n"
     ]
    },
    {
     "data": {
      "image/png": "[encoded data removed]",
      "text/plain": [
       "<Figure size 640x480 with 1 Axes>"
      ]
     },
     "metadata": {},
     "output_type": "display_data"
    }
   ],
   "source": [
    "#Let's visualize the relation between Reach and female mention here\n",
    "import seaborn as sns\n",
    "\n",
    "fig = sns.pointplot(x='Female', y = 'Reach', data = data1)\n",
    "sns.despine()"
   ]
  },
  {
   "cell_type": "code",
   "execution_count": 39,
   "id": "037b3bf8-61f8-4cf4-9216-d057974ccd03",
   "metadata": {},
   "outputs": [
    {
     "data": {
      "text/html": [
       "<div>\n",
       "<style scoped>\n",
       "    .dataframe tbody tr th:only-of-type {\n",
       "        vertical-align: middle;\n",
       "    }\n",
       "\n",
       "    .dataframe tbody tr th {\n",
       "        vertical-align: top;\n",
       "    }\n",
       "\n",
       "    .dataframe thead th {\n",
       "        text-align: right;\n",
       "    }\n",
       "</style>\n",
       "<table border=\"1\" class=\"dataframe\">\n",
       "  <thead>\n",
       "    <tr style=\"text-align: right;\">\n",
       "      <th></th>\n",
       "      <th>sum_sq</th>\n",
       "      <th>df</th>\n",
       "      <th>F</th>\n",
       "      <th>PR(&gt;F)</th>\n",
       "    </tr>\n",
       "  </thead>\n",
       "  <tbody>\n",
       "    <tr>\n",
       "      <th>Female</th>\n",
       "      <td>1.495369e+15</td>\n",
       "      <td>1.0</td>\n",
       "      <td>18.992149</td>\n",
       "      <td>0.000013</td>\n",
       "    </tr>\n",
       "    <tr>\n",
       "      <th>Residual</th>\n",
       "      <td>5.240049e+18</td>\n",
       "      <td>66552.0</td>\n",
       "      <td>NaN</td>\n",
       "      <td>NaN</td>\n",
       "    </tr>\n",
       "  </tbody>\n",
       "</table>\n",
       "</div>"
      ],
      "text/plain": [
       "                sum_sq       df          F    PR(>F)\n",
       "Female    1.495369e+15      1.0  18.992149  0.000013\n",
       "Residual  5.240049e+18  66552.0        NaN       NaN"
      ]
     },
     "execution_count": 39,
     "metadata": {},
     "output_type": "execute_result"
    }
   ],
   "source": [
    "#let's do an ANOVA to see\n",
    "import statsmodels.api as sm\n",
    "from statsmodels.formula.api import ols\n",
    "\n",
    "formula = 'Reach ~ Female'\n",
    "\n",
    "model = ols(formula, data=data1).fit()\n",
    "\n",
    "aov_table = sm.stats.anova_lm(model, typ=2)\n",
    "aov_table"
   ]
  },
  {
   "cell_type": "code",
   "execution_count": 40,
   "id": "40ff1ce9",
   "metadata": {},
   "outputs": [
    {
     "data": {
      "text/html": [
       "<div>\n",
       "<style scoped>\n",
       "    .dataframe tbody tr th:only-of-type {\n",
       "        vertical-align: middle;\n",
       "    }\n",
       "\n",
       "    .dataframe tbody tr th {\n",
       "        vertical-align: top;\n",
       "    }\n",
       "\n",
       "    .dataframe thead th {\n",
       "        text-align: right;\n",
       "    }\n",
       "</style>\n",
       "<table border=\"1\" class=\"dataframe\">\n",
       "  <thead>\n",
       "    <tr style=\"text-align: right;\">\n",
       "      <th></th>\n",
       "      <th>sum_sq</th>\n",
       "      <th>df</th>\n",
       "      <th>F</th>\n",
       "      <th>PR(&gt;F)</th>\n",
       "    </tr>\n",
       "  </thead>\n",
       "  <tbody>\n",
       "    <tr>\n",
       "      <th>Female</th>\n",
       "      <td>0.047760</td>\n",
       "      <td>1.0</td>\n",
       "      <td>0.942492</td>\n",
       "      <td>0.331641</td>\n",
       "    </tr>\n",
       "    <tr>\n",
       "      <th>Residual</th>\n",
       "      <td>3372.489322</td>\n",
       "      <td>66552.0</td>\n",
       "      <td>NaN</td>\n",
       "      <td>NaN</td>\n",
       "    </tr>\n",
       "  </tbody>\n",
       "</table>\n",
       "</div>"
      ],
      "text/plain": [
       "               sum_sq       df         F    PR(>F)\n",
       "Female       0.047760      1.0  0.942492  0.331641\n",
       "Residual  3372.489322  66552.0       NaN       NaN"
      ]
     },
     "execution_count": 40,
     "metadata": {},
     "output_type": "execute_result"
    }
   ],
   "source": [
    "formula = 'Engagement ~ Female'\n",
    "\n",
    "model = ols(formula, data=data1).fit()\n",
    "\n",
    "aov_table = sm.stats.anova_lm(model, typ=2)\n",
    "aov_table"
   ]
  },
  {
   "cell_type": "code",
   "execution_count": 41,
   "id": "d7e09094-2131-4165-ba85-f46445489917",
   "metadata": {},
   "outputs": [
    {
     "data": {
      "text/html": [
       "<div>\n",
       "<style scoped>\n",
       "    .dataframe tbody tr th:only-of-type {\n",
       "        vertical-align: middle;\n",
       "    }\n",
       "\n",
       "    .dataframe tbody tr th {\n",
       "        vertical-align: top;\n",
       "    }\n",
       "\n",
       "    .dataframe thead th {\n",
       "        text-align: right;\n",
       "    }\n",
       "</style>\n",
       "<table border=\"1\" class=\"dataframe\">\n",
       "  <thead>\n",
       "    <tr style=\"text-align: right;\">\n",
       "      <th></th>\n",
       "      <th>sum_sq</th>\n",
       "      <th>df</th>\n",
       "      <th>F</th>\n",
       "      <th>PR(&gt;F)</th>\n",
       "    </tr>\n",
       "  </thead>\n",
       "  <tbody>\n",
       "    <tr>\n",
       "      <th>Female</th>\n",
       "      <td>3.376375e+15</td>\n",
       "      <td>1.0</td>\n",
       "      <td>43.039360</td>\n",
       "      <td>5.404134e-11</td>\n",
       "    </tr>\n",
       "    <tr>\n",
       "      <th>Male</th>\n",
       "      <td>1.922039e+16</td>\n",
       "      <td>1.0</td>\n",
       "      <td>245.006368</td>\n",
       "      <td>3.996027e-55</td>\n",
       "    </tr>\n",
       "    <tr>\n",
       "      <th>Residual</th>\n",
       "      <td>5.220829e+18</td>\n",
       "      <td>66551.0</td>\n",
       "      <td>NaN</td>\n",
       "      <td>NaN</td>\n",
       "    </tr>\n",
       "  </tbody>\n",
       "</table>\n",
       "</div>"
      ],
      "text/plain": [
       "                sum_sq       df           F        PR(>F)\n",
       "Female    3.376375e+15      1.0   43.039360  5.404134e-11\n",
       "Male      1.922039e+16      1.0  245.006368  3.996027e-55\n",
       "Residual  5.220829e+18  66551.0         NaN           NaN"
      ]
     },
     "execution_count": 41,
     "metadata": {},
     "output_type": "execute_result"
    }
   ],
   "source": [
    "#let's do another ANOVA to see\n",
    "formula = 'Reach ~ Female+Male'\n",
    "\n",
    "model = ols(formula, data=data1).fit()\n",
    "\n",
    "aov_table = sm.stats.anova_lm(model, typ=2)\n",
    "aov_table"
   ]
  },
  {
   "cell_type": "code",
   "execution_count": 42,
   "id": "ab5a2846",
   "metadata": {},
   "outputs": [
    {
     "data": {
      "text/html": [
       "<div>\n",
       "<style scoped>\n",
       "    .dataframe tbody tr th:only-of-type {\n",
       "        vertical-align: middle;\n",
       "    }\n",
       "\n",
       "    .dataframe tbody tr th {\n",
       "        vertical-align: top;\n",
       "    }\n",
       "\n",
       "    .dataframe thead th {\n",
       "        text-align: right;\n",
       "    }\n",
       "</style>\n",
       "<table border=\"1\" class=\"dataframe\">\n",
       "  <thead>\n",
       "    <tr style=\"text-align: right;\">\n",
       "      <th></th>\n",
       "      <th>sum_sq</th>\n",
       "      <th>df</th>\n",
       "      <th>F</th>\n",
       "      <th>PR(&gt;F)</th>\n",
       "    </tr>\n",
       "  </thead>\n",
       "  <tbody>\n",
       "    <tr>\n",
       "      <th>DRR</th>\n",
       "      <td>9.209031e+13</td>\n",
       "      <td>1.0</td>\n",
       "      <td>1.170993</td>\n",
       "      <td>2.792013e-01</td>\n",
       "    </tr>\n",
       "    <tr>\n",
       "      <th>Norm</th>\n",
       "      <td>1.100937e+14</td>\n",
       "      <td>1.0</td>\n",
       "      <td>1.399918</td>\n",
       "      <td>2.367415e-01</td>\n",
       "    </tr>\n",
       "    <tr>\n",
       "      <th>Activism</th>\n",
       "      <td>1.250361e+14</td>\n",
       "      <td>1.0</td>\n",
       "      <td>1.589921</td>\n",
       "      <td>2.073418e-01</td>\n",
       "    </tr>\n",
       "    <tr>\n",
       "      <th>Problems</th>\n",
       "      <td>7.795457e+15</td>\n",
       "      <td>1.0</td>\n",
       "      <td>99.124691</td>\n",
       "      <td>2.461823e-23</td>\n",
       "    </tr>\n",
       "    <tr>\n",
       "      <th>Solutions</th>\n",
       "      <td>8.842250e+12</td>\n",
       "      <td>1.0</td>\n",
       "      <td>0.112435</td>\n",
       "      <td>7.373894e-01</td>\n",
       "    </tr>\n",
       "    <tr>\n",
       "      <th>Poverty</th>\n",
       "      <td>9.558835e+12</td>\n",
       "      <td>1.0</td>\n",
       "      <td>0.121547</td>\n",
       "      <td>7.273635e-01</td>\n",
       "    </tr>\n",
       "    <tr>\n",
       "      <th>Residual</th>\n",
       "      <td>5.233452e+18</td>\n",
       "      <td>66547.0</td>\n",
       "      <td>NaN</td>\n",
       "      <td>NaN</td>\n",
       "    </tr>\n",
       "  </tbody>\n",
       "</table>\n",
       "</div>"
      ],
      "text/plain": [
       "                 sum_sq       df          F        PR(>F)\n",
       "DRR        9.209031e+13      1.0   1.170993  2.792013e-01\n",
       "Norm       1.100937e+14      1.0   1.399918  2.367415e-01\n",
       "Activism   1.250361e+14      1.0   1.589921  2.073418e-01\n",
       "Problems   7.795457e+15      1.0  99.124691  2.461823e-23\n",
       "Solutions  8.842250e+12      1.0   0.112435  7.373894e-01\n",
       "Poverty    9.558835e+12      1.0   0.121547  7.273635e-01\n",
       "Residual   5.233452e+18  66547.0        NaN           NaN"
      ]
     },
     "execution_count": 42,
     "metadata": {},
     "output_type": "execute_result"
    }
   ],
   "source": [
    "#let's do another ANOVA to see how other variables differ in Reach\n",
    "\n",
    "formula = 'Reach ~ DRR+Norm+Activism+Problems+Solutions+Poverty'\n",
    "\n",
    "model = ols(formula, data=data1).fit()\n",
    "\n",
    "aov_table = sm.stats.anova_lm(model, typ=2)\n",
    "aov_table"
   ]
  },
  {
   "cell_type": "code",
   "execution_count": 43,
   "id": "ff566078",
   "metadata": {},
   "outputs": [
    {
     "name": "stdout",
     "output_type": "stream",
     "text": [
      "                            OLS Regression Results                            \n",
      "==============================================================================\n",
      "Dep. Variable:                  Reach   R-squared:                       0.005\n",
      "Model:                            OLS   Adj. R-squared:                  0.005\n",
      "Method:                 Least Squares   F-statistic:                     44.29\n",
      "Date:                Thu, 30 Nov 2023   Prob (F-statistic):           1.71e-71\n",
      "Time:                        23:59:20   Log-Likelihood:            -1.1590e+06\n",
      "No. Observations:               66554   AIC:                         2.318e+06\n",
      "Df Residuals:                   66545   BIC:                         2.318e+06\n",
      "Df Model:                           8                                         \n",
      "Covariance Type:            nonrobust                                         \n",
      "==============================================================================\n",
      "                 coef    std err          t      P>|t|      [0.025      0.975]\n",
      "------------------------------------------------------------------------------\n",
      "Intercept   3.412e+06    4.8e+04     71.155      0.000    3.32e+06    3.51e+06\n",
      "Female     -2.539e+05   3.85e+04     -6.587      0.000   -3.29e+05   -1.78e+05\n",
      "Male        1.474e+06   9.69e+04     15.200      0.000    1.28e+06    1.66e+06\n",
      "DRR        -2.979e+05   2.76e+05     -1.079      0.281   -8.39e+05    2.43e+05\n",
      "Norm        5.613e+05   4.09e+05      1.373      0.170    -2.4e+05    1.36e+06\n",
      "Activism    2.107e+05   1.31e+05      1.612      0.107   -4.56e+04    4.67e+05\n",
      "Problems   -7.837e+05   8.54e+04     -9.181      0.000   -9.51e+05   -6.16e+05\n",
      "Solutions   5.415e+04   2.99e+05      0.181      0.856   -5.32e+05    6.41e+05\n",
      "Poverty     1.085e+05   1.66e+05      0.654      0.513   -2.16e+05    4.33e+05\n",
      "==============================================================================\n",
      "Omnibus:                    69093.035   Durbin-Watson:                   1.825\n",
      "Prob(Omnibus):                  0.000   Jarque-Bera (JB):          6686416.803\n",
      "Skew:                           5.089   Prob(JB):                         0.00\n",
      "Kurtosis:                      51.037   Cond. No.                         16.8\n",
      "==============================================================================\n",
      "\n",
      "Notes:\n",
      "[1] Standard Errors assume that the covariance matrix of the errors is correctly specified.\n"
     ]
    }
   ],
   "source": [
    "test1= ols('Reach ~ Female+Male+DRR+Norm+Activism+Problems+Solutions+Poverty', data=data1).fit()\n",
    "print(test1.summary())"
   ]
  },
  {
   "cell_type": "code",
   "execution_count": 44,
   "id": "08820316-d266-4ee4-a144-fad7067c2182",
   "metadata": {},
   "outputs": [
    {
     "name": "stdout",
     "output_type": "stream",
     "text": [
      "                            OLS Regression Results                            \n",
      "==============================================================================\n",
      "Dep. Variable:                  Reach   R-squared:                       0.005\n",
      "Model:                            OLS   Adj. R-squared:                  0.005\n",
      "Method:                 Least Squares   F-statistic:                     44.29\n",
      "Date:                Thu, 30 Nov 2023   Prob (F-statistic):           1.71e-71\n",
      "Time:                        23:59:20   Log-Likelihood:            -1.1590e+06\n",
      "No. Observations:               66554   AIC:                         2.318e+06\n",
      "Df Residuals:                   66545   BIC:                         2.318e+06\n",
      "Df Model:                           8                                         \n",
      "Covariance Type:            nonrobust                                         \n",
      "==============================================================================\n",
      "                 coef    std err          t      P>|t|      [0.025      0.975]\n",
      "------------------------------------------------------------------------------\n",
      "Intercept   3.412e+06    4.8e+04     71.155      0.000    3.32e+06    3.51e+06\n",
      "Female     -2.539e+05   3.85e+04     -6.587      0.000   -3.29e+05   -1.78e+05\n",
      "Male        1.474e+06   9.69e+04     15.200      0.000    1.28e+06    1.66e+06\n",
      "DRR        -2.979e+05   2.76e+05     -1.079      0.281   -8.39e+05    2.43e+05\n",
      "Norm        5.613e+05   4.09e+05      1.373      0.170    -2.4e+05    1.36e+06\n",
      "Activism    2.107e+05   1.31e+05      1.612      0.107   -4.56e+04    4.67e+05\n",
      "Problems   -7.837e+05   8.54e+04     -9.181      0.000   -9.51e+05   -6.16e+05\n",
      "Solutions   5.415e+04   2.99e+05      0.181      0.856   -5.32e+05    6.41e+05\n",
      "Poverty     1.085e+05   1.66e+05      0.654      0.513   -2.16e+05    4.33e+05\n",
      "==============================================================================\n",
      "Omnibus:                    69093.035   Durbin-Watson:                   1.825\n",
      "Prob(Omnibus):                  0.000   Jarque-Bera (JB):          6686416.803\n",
      "Skew:                           5.089   Prob(JB):                         0.00\n",
      "Kurtosis:                      51.037   Cond. No.                         16.8\n",
      "==============================================================================\n",
      "\n",
      "Notes:\n",
      "[1] Standard Errors assume that the covariance matrix of the errors is correctly specified.\n"
     ]
    }
   ],
   "source": [
    "test2= ols('Engagement ~ Female+Male+DRR+Norm+Activism+Problems+Solutions+Poverty', data=data1).fit()\n",
    "print(test1.summary())"
   ]
  },
  {
   "cell_type": "code",
   "execution_count": 45,
   "id": "24c10e37",
   "metadata": {},
   "outputs": [
    {
     "ename": "SyntaxError",
     "evalue": "invalid syntax (<unknown>, line 1)",
     "output_type": "error",
     "traceback": [
      "Traceback \u001b[1;36m(most recent call last)\u001b[0m:\n",
      "\u001b[0m  File \u001b[0;32m~\\anaconda3\\Lib\\site-packages\\IPython\\core\\interactiveshell.py:3505\u001b[0m in \u001b[0;35mrun_code\u001b[0m\n    exec(code_obj, self.user_global_ns, self.user_ns)\u001b[0m\n",
      "\u001b[0m  Cell \u001b[0;32mIn[45], line 1\u001b[0m\n    test3= ols('Social Echo Total ~ Female+Male+DRR+Norm+Activism+Problems+Solutions+Poverty', data=data1).fit()\u001b[0m\n",
      "\u001b[0m  File \u001b[0;32m~\\anaconda3\\Lib\\site-packages\\statsmodels\\base\\model.py:203\u001b[0m in \u001b[0;35mfrom_formula\u001b[0m\n    tmp = handle_formula_data(data, None, formula, depth=eval_env,\u001b[0m\n",
      "\u001b[0m  File \u001b[0;32m~\\anaconda3\\Lib\\site-packages\\statsmodels\\formula\\formulatools.py:63\u001b[0m in \u001b[0;35mhandle_formula_data\u001b[0m\n    result = dmatrices(formula, Y, depth, return_type='dataframe',\u001b[0m\n",
      "\u001b[0m  File \u001b[0;32m~\\anaconda3\\Lib\\site-packages\\patsy\\highlevel.py:309\u001b[0m in \u001b[0;35mdmatrices\u001b[0m\n    (lhs, rhs) = _do_highlevel_design(formula_like, data, eval_env,\u001b[0m\n",
      "\u001b[0m  File \u001b[0;32m~\\anaconda3\\Lib\\site-packages\\patsy\\highlevel.py:164\u001b[0m in \u001b[0;35m_do_highlevel_design\u001b[0m\n    design_infos = _try_incr_builders(formula_like, data_iter_maker, eval_env,\u001b[0m\n",
      "\u001b[0m  File \u001b[0;32m~\\anaconda3\\Lib\\site-packages\\patsy\\highlevel.py:66\u001b[0m in \u001b[0;35m_try_incr_builders\u001b[0m\n    return design_matrix_builders([formula_like.lhs_termlist,\u001b[0m\n",
      "\u001b[0m  File \u001b[0;32m~\\anaconda3\\Lib\\site-packages\\patsy\\build.py:689\u001b[0m in \u001b[0;35mdesign_matrix_builders\u001b[0m\n    factor_states = _factors_memorize(all_factors, data_iter_maker, eval_env)\u001b[0m\n",
      "\u001b[0m  File \u001b[0;32m~\\anaconda3\\Lib\\site-packages\\patsy\\build.py:354\u001b[0m in \u001b[0;35m_factors_memorize\u001b[0m\n    which_pass = factor.memorize_passes_needed(state, eval_env)\u001b[0m\n",
      "\u001b[0m  File \u001b[0;32m~\\anaconda3\\Lib\\site-packages\\patsy\\eval.py:478\u001b[0m in \u001b[0;35mmemorize_passes_needed\u001b[0m\n    subset_names = [name for name in ast_names(self.code)\u001b[0m\n",
      "\u001b[0m  File \u001b[0;32m~\\anaconda3\\Lib\\site-packages\\patsy\\eval.py:478\u001b[0m in \u001b[0;35m<listcomp>\u001b[0m\n    subset_names = [name for name in ast_names(self.code)\u001b[0m\n",
      "\u001b[0m  File \u001b[0;32m~\\anaconda3\\Lib\\site-packages\\patsy\\eval.py:109\u001b[0m in \u001b[0;35mast_names\u001b[0m\n    for node in ast.walk(ast.parse(code)):\u001b[0m\n",
      "\u001b[1;36m  File \u001b[1;32m~\\anaconda3\\Lib\\ast.py:50\u001b[1;36m in \u001b[1;35mparse\u001b[1;36m\n\u001b[1;33m    return compile(source, filename, mode, flags,\u001b[1;36m\n",
      "\u001b[1;36m  File \u001b[1;32m<unknown>:1\u001b[1;36m\u001b[0m\n\u001b[1;33m    Social Echo Total\u001b[0m\n\u001b[1;37m           ^\u001b[0m\n\u001b[1;31mSyntaxError\u001b[0m\u001b[1;31m:\u001b[0m invalid syntax\n"
     ]
    }
   ],
   "source": [
    "test3= ols('Social Echo Total ~ Female+Male+DRR+Norm+Activism+Problems+Solutions+Poverty', data=data1).fit()\n",
    "print(test1.summary())"
   ]
  }
 ],
 "metadata": {
  "kernelspec": {
   "display_name": "Python 3 (ipykernel)",
   "language": "python",
   "name": "python3"
  },
  "language_info": {
   "codemirror_mode": {
    "name": "ipython",
    "version": 3
   },
   "file_extension": ".py",
   "mimetype": "text/x-python",
   "name": "python",
   "nbconvert_exporter": "python",
   "pygments_lexer": "ipython3",
   "version": "3.11.4"
  }
 },
 "nbformat": 4,
 "nbformat_minor": 5
}
