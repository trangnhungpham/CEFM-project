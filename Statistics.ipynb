{
 "cells": [
  {
   "cell_type": "code",
   "execution_count": 1,
   "id": "a17bfe0d-b03d-4de3-9c97-64e689c32b64",
   "metadata": {},
   "outputs": [],
   "source": [
    "###Statistical tests\n",
    "#After finishing text mining,the next step is to examine whether particular content in media coverage influence its reach.\n",
    "# In particular, the following tests will be taken:\n",
    "#1. Mean comparison (ANOVA)"
   ]
  },
  {
   "cell_type": "code",
   "execution_count": 2,
   "id": "02a8937a",
   "metadata": {},
   "outputs": [],
   "source": [
    "#Loading the data"
   ]
  },
  {
   "cell_type": "code",
   "execution_count": 3,
   "id": "3e51a510-aa95-4259-9988-e8f41f75efe0",
   "metadata": {},
   "outputs": [],
   "source": [
    "import pandas as pd"
   ]
  },
  {
   "cell_type": "code",
   "execution_count": 4,
   "id": "d12cd5e5-242b-4dc0-98d5-c0bf021bca48",
   "metadata": {},
   "outputs": [],
   "source": [
    "data=pd.read_csv('Processed_1.csv')"
   ]
  },
  {
   "cell_type": "code",
   "execution_count": 5,
   "id": "25996d00-3d3b-4e71-9b6a-e0deb88b1c15",
   "metadata": {},
   "outputs": [
    {
     "data": {
      "text/plain": [
       "Index(['Unnamed: 0', 'Date', 'Headline', 'URL', 'Opening Text', 'Hit Sentence',\n",
       "       'Source', 'Country', 'Reach', 'National Viewership', 'Engagement',\n",
       "       'Sentiment', 'Alternate Date Format', 'Time', 'Social Echo Total',\n",
       "       'Girl_in_Headline', 'Girl_in_Open', 'Girl_in_Hit', 'Boy_in_Headline',\n",
       "       'Boy_in_Open', 'Boy_in_Hit', 'Women_in_Headline', 'Women_in_Open',\n",
       "       'Women_in_Hit', 'Men_in_Headline', 'Men_in_Open', 'Men_in_Hit',\n",
       "       'Female_in_Headline', 'Female_in_Hit', 'Female_in_Open', 'Female',\n",
       "       'Male_in_Headline', 'Male_in_Hit', 'Male_in_Open', 'Male',\n",
       "       'Problems_in_Headline', 'Problems_in_Open', 'Problems_in_Hit',\n",
       "       'Problems', 'Solutions_in_Headline', 'Solutions_in_Open',\n",
       "       'Solutions_in_Hit', 'Solutions', 'Activism_in_Hit',\n",
       "       'Activism_in_Headline', 'Activism_in_Open', 'Activism',\n",
       "       'Poverty_in_Open', 'Poverty_in_Hit', 'Poverty_in_Headline', 'Poverty',\n",
       "       'Norm_in_Headline', 'Norm_in_Hit', 'Norm_in_Open', 'Norm',\n",
       "       'DRR_in_Headline', 'DRR_in_Hit', 'DRR_in_Open', 'DRR', 'Month_Year'],\n",
       "      dtype='object')"
      ]
     },
     "execution_count": 5,
     "metadata": {},
     "output_type": "execute_result"
    }
   ],
   "source": [
    "data.columns"
   ]
  },
  {
   "cell_type": "code",
   "execution_count": 6,
   "id": "da59938e-5969-4bcf-bee5-c0ed99eb101c",
   "metadata": {},
   "outputs": [],
   "source": [
    "#First let's look at the most general data\n",
    "data1=data[['Date', 'Country', 'Reach', 'National Viewership', 'Engagement','Time', 'Social Echo Total','Female','Male', 'DRR', 'Norm', 'Activism', 'Problems',\n",
    "       'Solutions', 'Poverty']]"
   ]
  },
  {
   "cell_type": "code",
   "execution_count": 7,
   "id": "2b86f2e5-bcde-471b-b7e9-6b11cc45f1c2",
   "metadata": {},
   "outputs": [
    {
     "data": {
      "text/html": [
       "<div>\n",
       "<style scoped>\n",
       "    .dataframe tbody tr th:only-of-type {\n",
       "        vertical-align: middle;\n",
       "    }\n",
       "\n",
       "    .dataframe tbody tr th {\n",
       "        vertical-align: top;\n",
       "    }\n",
       "\n",
       "    .dataframe thead th {\n",
       "        text-align: right;\n",
       "    }\n",
       "</style>\n",
       "<table border=\"1\" class=\"dataframe\">\n",
       "  <thead>\n",
       "    <tr style=\"text-align: right;\">\n",
       "      <th></th>\n",
       "      <th>Reach</th>\n",
       "      <th>National Viewership</th>\n",
       "      <th>Engagement</th>\n",
       "      <th>Social Echo Total</th>\n",
       "      <th>Female</th>\n",
       "      <th>Male</th>\n",
       "      <th>DRR</th>\n",
       "      <th>Norm</th>\n",
       "      <th>Activism</th>\n",
       "      <th>Problems</th>\n",
       "      <th>Solutions</th>\n",
       "      <th>Poverty</th>\n",
       "    </tr>\n",
       "  </thead>\n",
       "  <tbody>\n",
       "    <tr>\n",
       "      <th>count</th>\n",
       "      <td>6.655400e+04</td>\n",
       "      <td>66554.0</td>\n",
       "      <td>66554.000000</td>\n",
       "      <td>66554.000000</td>\n",
       "      <td>66554.000000</td>\n",
       "      <td>66554.000000</td>\n",
       "      <td>66554.000000</td>\n",
       "      <td>66554.000000</td>\n",
       "      <td>66554.000000</td>\n",
       "      <td>66554.000000</td>\n",
       "      <td>66554.000000</td>\n",
       "      <td>66554.000000</td>\n",
       "    </tr>\n",
       "    <tr>\n",
       "      <th>mean</th>\n",
       "      <td>3.258713e+06</td>\n",
       "      <td>0.0</td>\n",
       "      <td>0.008189</td>\n",
       "      <td>11.958650</td>\n",
       "      <td>0.751856</td>\n",
       "      <td>0.091670</td>\n",
       "      <td>0.012486</td>\n",
       "      <td>0.005950</td>\n",
       "      <td>0.050786</td>\n",
       "      <td>0.143282</td>\n",
       "      <td>0.009586</td>\n",
       "      <td>0.032996</td>\n",
       "    </tr>\n",
       "    <tr>\n",
       "      <th>std</th>\n",
       "      <td>8.874540e+06</td>\n",
       "      <td>0.0</td>\n",
       "      <td>0.225110</td>\n",
       "      <td>578.384139</td>\n",
       "      <td>0.900359</td>\n",
       "      <td>0.358336</td>\n",
       "      <td>0.124321</td>\n",
       "      <td>0.084004</td>\n",
       "      <td>0.262569</td>\n",
       "      <td>0.403202</td>\n",
       "      <td>0.114851</td>\n",
       "      <td>0.207138</td>\n",
       "    </tr>\n",
       "    <tr>\n",
       "      <th>min</th>\n",
       "      <td>0.000000e+00</td>\n",
       "      <td>0.0</td>\n",
       "      <td>0.000000</td>\n",
       "      <td>0.000000</td>\n",
       "      <td>0.000000</td>\n",
       "      <td>0.000000</td>\n",
       "      <td>0.000000</td>\n",
       "      <td>0.000000</td>\n",
       "      <td>0.000000</td>\n",
       "      <td>0.000000</td>\n",
       "      <td>0.000000</td>\n",
       "      <td>0.000000</td>\n",
       "    </tr>\n",
       "    <tr>\n",
       "      <th>25%</th>\n",
       "      <td>9.655000e+02</td>\n",
       "      <td>0.0</td>\n",
       "      <td>0.000000</td>\n",
       "      <td>0.000000</td>\n",
       "      <td>0.000000</td>\n",
       "      <td>0.000000</td>\n",
       "      <td>0.000000</td>\n",
       "      <td>0.000000</td>\n",
       "      <td>0.000000</td>\n",
       "      <td>0.000000</td>\n",
       "      <td>0.000000</td>\n",
       "      <td>0.000000</td>\n",
       "    </tr>\n",
       "    <tr>\n",
       "      <th>50%</th>\n",
       "      <td>8.620000e+04</td>\n",
       "      <td>0.0</td>\n",
       "      <td>0.000000</td>\n",
       "      <td>0.000000</td>\n",
       "      <td>0.000000</td>\n",
       "      <td>0.000000</td>\n",
       "      <td>0.000000</td>\n",
       "      <td>0.000000</td>\n",
       "      <td>0.000000</td>\n",
       "      <td>0.000000</td>\n",
       "      <td>0.000000</td>\n",
       "      <td>0.000000</td>\n",
       "    </tr>\n",
       "    <tr>\n",
       "      <th>75%</th>\n",
       "      <td>1.382966e+06</td>\n",
       "      <td>0.0</td>\n",
       "      <td>0.000000</td>\n",
       "      <td>0.000000</td>\n",
       "      <td>1.000000</td>\n",
       "      <td>0.000000</td>\n",
       "      <td>0.000000</td>\n",
       "      <td>0.000000</td>\n",
       "      <td>0.000000</td>\n",
       "      <td>0.000000</td>\n",
       "      <td>0.000000</td>\n",
       "      <td>0.000000</td>\n",
       "    </tr>\n",
       "    <tr>\n",
       "      <th>max</th>\n",
       "      <td>1.933907e+08</td>\n",
       "      <td>0.0</td>\n",
       "      <td>43.000000</td>\n",
       "      <td>139911.000000</td>\n",
       "      <td>3.000000</td>\n",
       "      <td>3.000000</td>\n",
       "      <td>3.000000</td>\n",
       "      <td>3.000000</td>\n",
       "      <td>3.000000</td>\n",
       "      <td>3.000000</td>\n",
       "      <td>3.000000</td>\n",
       "      <td>3.000000</td>\n",
       "    </tr>\n",
       "  </tbody>\n",
       "</table>\n",
       "</div>"
      ],
      "text/plain": [
       "              Reach  National Viewership    Engagement  Social Echo Total  \\\n",
       "count  6.655400e+04              66554.0  66554.000000       66554.000000   \n",
       "mean   3.258713e+06                  0.0      0.008189          11.958650   \n",
       "std    8.874540e+06                  0.0      0.225110         578.384139   \n",
       "min    0.000000e+00                  0.0      0.000000           0.000000   \n",
       "25%    9.655000e+02                  0.0      0.000000           0.000000   \n",
       "50%    8.620000e+04                  0.0      0.000000           0.000000   \n",
       "75%    1.382966e+06                  0.0      0.000000           0.000000   \n",
       "max    1.933907e+08                  0.0     43.000000      139911.000000   \n",
       "\n",
       "             Female          Male           DRR          Norm      Activism  \\\n",
       "count  66554.000000  66554.000000  66554.000000  66554.000000  66554.000000   \n",
       "mean       0.751856      0.091670      0.012486      0.005950      0.050786   \n",
       "std        0.900359      0.358336      0.124321      0.084004      0.262569   \n",
       "min        0.000000      0.000000      0.000000      0.000000      0.000000   \n",
       "25%        0.000000      0.000000      0.000000      0.000000      0.000000   \n",
       "50%        0.000000      0.000000      0.000000      0.000000      0.000000   \n",
       "75%        1.000000      0.000000      0.000000      0.000000      0.000000   \n",
       "max        3.000000      3.000000      3.000000      3.000000      3.000000   \n",
       "\n",
       "           Problems     Solutions       Poverty  \n",
       "count  66554.000000  66554.000000  66554.000000  \n",
       "mean       0.143282      0.009586      0.032996  \n",
       "std        0.403202      0.114851      0.207138  \n",
       "min        0.000000      0.000000      0.000000  \n",
       "25%        0.000000      0.000000      0.000000  \n",
       "50%        0.000000      0.000000      0.000000  \n",
       "75%        0.000000      0.000000      0.000000  \n",
       "max        3.000000      3.000000      3.000000  "
      ]
     },
     "execution_count": 7,
     "metadata": {},
     "output_type": "execute_result"
    }
   ],
   "source": [
    "data1.describe()"
   ]
  },
  {
   "cell_type": "code",
   "execution_count": 8,
   "id": "e03eb313-4156-41ab-83b8-7ac1d3662668",
   "metadata": {},
   "outputs": [],
   "source": [
    "#View plots of each variables to see & identify outliers\n",
    "#Import packages\n",
    "import numpy as np\n",
    "import seaborn as sns\n",
    "import matplotlib.pyplot as plt "
   ]
  },
  {
   "cell_type": "code",
   "execution_count": 9,
   "id": "6a6d3002",
   "metadata": {},
   "outputs": [
    {
     "data": {
      "image/png": "[encoded data removed]",
      "text/plain": [
       "<Figure size 640x480 with 1 Axes>"
      ]
     },
     "metadata": {},
     "output_type": "display_data"
    },
    {
     "data": {
      "image/png": "[encoded data removed]",
      "text/plain": [
       "<Figure size 640x480 with 1 Axes>"
      ]
     },
     "metadata": {},
     "output_type": "display_data"
    },
    {
     "data": {
      "image/png": "[encoded data removed]",
      "text/plain": [
       "<Figure size 640x480 with 1 Axes>"
      ]
     },
     "metadata": {},
     "output_type": "display_data"
    },
    {
     "data": {
      "image/png": "[encoded data removed]",
      "text/plain": [
       "<Figure size 640x480 with 1 Axes>"
      ]
     },
     "metadata": {},
     "output_type": "display_data"
    },
    {
     "data": {
      "image/png": "[encoded data removed]",
      "text/plain": [
       "<Figure size 640x480 with 1 Axes>"
      ]
     },
     "metadata": {},
     "output_type": "display_data"
    },
    {
     "data": {
      "image/png": "[encoded data removed]",
      "text/plain": [
       "<Figure size 640x480 with 1 Axes>"
      ]
     },
     "metadata": {},
     "output_type": "display_data"
    },
    {
     "data": {
      "image/png": "[encoded data removed]",
      "text/plain": [
       "<Figure size 640x480 with 1 Axes>"
      ]
     },
     "metadata": {},
     "output_type": "display_data"
    },
    {
     "data": {
      "image/png": "[encoded data removed]",
      "text/plain": [
       "<Figure size 640x480 with 1 Axes>"
      ]
     },
     "metadata": {},
     "output_type": "display_data"
    }
   ],
   "source": [
    "#Visualize all presence variable\n",
    "presence_data = data[['Female','Male', 'DRR', 'Norm', 'Activism', 'Problems',\n",
    "       'Solutions', 'Poverty']]\n",
    "for column_name in presence_data:\n",
    "    presence_data[column_name].value_counts().plot(kind='bar')\n",
    "    plt.show()"
   ]
  },
  {
   "cell_type": "code",
   "execution_count": 10,
   "id": "b5660410",
   "metadata": {},
   "outputs": [
    {
     "data": {
      "image/png": "[encoded data removed]",
      "text/plain": [
       "<Figure size 640x480 with 8 Axes>"
      ]
     },
     "metadata": {},
     "output_type": "display_data"
    }
   ],
   "source": [
    "#Another way to arrange the graph\n",
    "import math\n",
    "\n",
    "size = math.ceil(presence_data.shape[1]** (1/2))\n",
    "fig = plt.figure()\n",
    "\n",
    "for i, col in enumerate(presence_data.columns):\n",
    "    fig.add_subplot(size, size, i + 1)\n",
    "    presence_data[col].value_counts().plot(kind=\"bar\", ax=plt.gca(), title=col, rot=0)\n",
    "\n",
    "fig.tight_layout()"
   ]
  },
  {
   "cell_type": "code",
   "execution_count": 11,
   "id": "707a6be9",
   "metadata": {},
   "outputs": [],
   "source": [
    "#Create a new table for value counts of variables\n",
    "s1 = pd.Series(data1[['Female']].value_counts(), name='Female')\n",
    "s2 = pd.Series(data1[['Male']].value_counts(), name='Male')\n",
    "s3 = pd.Series(data1[['DRR']].value_counts(), name='DRR')\n",
    "s4 = pd. Series(data1[['Norm']].value_counts(), name='Norm')\n",
    "s5 = pd.Series(data1[['Activism']].value_counts(), name='Activism')\n",
    "s6 = pd.Series(data1[['Problems']].value_counts(), name='Problems')\n",
    "s7 = pd.Series(data1[['Solutions']].value_counts(), name='Solutions')\n",
    "s8 = pd.Series(data1[['Poverty']].value_counts(), name='Poverty')"
   ]
  },
  {
   "cell_type": "code",
   "execution_count": 12,
   "id": "2ad59a72",
   "metadata": {},
   "outputs": [],
   "source": [
    "data_2 = pd.concat([s1, s2,s3,s4,s5,s6,s7,s8], axis=1)"
   ]
  },
  {
   "cell_type": "code",
   "execution_count": 13,
   "id": "788615ef",
   "metadata": {},
   "outputs": [
    {
     "data": {
      "text/html": [
       "<div>\n",
       "<style scoped>\n",
       "    .dataframe tbody tr th:only-of-type {\n",
       "        vertical-align: middle;\n",
       "    }\n",
       "\n",
       "    .dataframe tbody tr th {\n",
       "        vertical-align: top;\n",
       "    }\n",
       "\n",
       "    .dataframe thead th {\n",
       "        text-align: right;\n",
       "    }\n",
       "</style>\n",
       "<table border=\"1\" class=\"dataframe\">\n",
       "  <thead>\n",
       "    <tr style=\"text-align: right;\">\n",
       "      <th></th>\n",
       "      <th>Female</th>\n",
       "      <th>Male</th>\n",
       "      <th>DRR</th>\n",
       "      <th>Norm</th>\n",
       "      <th>Activism</th>\n",
       "      <th>Problems</th>\n",
       "      <th>Solutions</th>\n",
       "      <th>Poverty</th>\n",
       "    </tr>\n",
       "  </thead>\n",
       "  <tbody>\n",
       "    <tr>\n",
       "      <th>0</th>\n",
       "      <td>33878</td>\n",
       "      <td>61790</td>\n",
       "      <td>65823</td>\n",
       "      <td>66192</td>\n",
       "      <td>63791</td>\n",
       "      <td>58267</td>\n",
       "      <td>66023</td>\n",
       "      <td>64694</td>\n",
       "    </tr>\n",
       "    <tr>\n",
       "      <th>1</th>\n",
       "      <td>18717</td>\n",
       "      <td>3592</td>\n",
       "      <td>635</td>\n",
       "      <td>332</td>\n",
       "      <td>2219</td>\n",
       "      <td>7114</td>\n",
       "      <td>440</td>\n",
       "      <td>1554</td>\n",
       "    </tr>\n",
       "    <tr>\n",
       "      <th>2</th>\n",
       "      <td>10555</td>\n",
       "      <td>1007</td>\n",
       "      <td>92</td>\n",
       "      <td>26</td>\n",
       "      <td>471</td>\n",
       "      <td>1097</td>\n",
       "      <td>75</td>\n",
       "      <td>276</td>\n",
       "    </tr>\n",
       "    <tr>\n",
       "      <th>3</th>\n",
       "      <td>3404</td>\n",
       "      <td>165</td>\n",
       "      <td>4</td>\n",
       "      <td>4</td>\n",
       "      <td>73</td>\n",
       "      <td>76</td>\n",
       "      <td>16</td>\n",
       "      <td>30</td>\n",
       "    </tr>\n",
       "  </tbody>\n",
       "</table>\n",
       "</div>"
      ],
      "text/plain": [
       "   Female   Male    DRR   Norm  Activism  Problems  Solutions  Poverty\n",
       "0   33878  61790  65823  66192     63791     58267      66023    64694\n",
       "1   18717   3592    635    332      2219      7114        440     1554\n",
       "2   10555   1007     92     26       471      1097         75      276\n",
       "3    3404    165      4      4        73        76         16       30"
      ]
     },
     "execution_count": 13,
     "metadata": {},
     "output_type": "execute_result"
    }
   ],
   "source": [
    "data_2"
   ]
  },
  {
   "cell_type": "code",
   "execution_count": 14,
   "id": "0dade3e9",
   "metadata": {},
   "outputs": [],
   "source": [
    "data2=data_2.transpose()"
   ]
  },
  {
   "cell_type": "code",
   "execution_count": 15,
   "id": "fd6432a4",
   "metadata": {},
   "outputs": [
    {
     "data": {
      "text/html": [
       "<div>\n",
       "<style scoped>\n",
       "    .dataframe tbody tr th:only-of-type {\n",
       "        vertical-align: middle;\n",
       "    }\n",
       "\n",
       "    .dataframe tbody tr th {\n",
       "        vertical-align: top;\n",
       "    }\n",
       "\n",
       "    .dataframe thead tr th {\n",
       "        text-align: left;\n",
       "    }\n",
       "</style>\n",
       "<table border=\"1\" class=\"dataframe\">\n",
       "  <thead>\n",
       "    <tr>\n",
       "      <th></th>\n",
       "      <th>0</th>\n",
       "      <th>1</th>\n",
       "      <th>2</th>\n",
       "      <th>3</th>\n",
       "    </tr>\n",
       "  </thead>\n",
       "  <tbody>\n",
       "    <tr>\n",
       "      <th>Female</th>\n",
       "      <td>33878</td>\n",
       "      <td>18717</td>\n",
       "      <td>10555</td>\n",
       "      <td>3404</td>\n",
       "    </tr>\n",
       "    <tr>\n",
       "      <th>Male</th>\n",
       "      <td>61790</td>\n",
       "      <td>3592</td>\n",
       "      <td>1007</td>\n",
       "      <td>165</td>\n",
       "    </tr>\n",
       "    <tr>\n",
       "      <th>DRR</th>\n",
       "      <td>65823</td>\n",
       "      <td>635</td>\n",
       "      <td>92</td>\n",
       "      <td>4</td>\n",
       "    </tr>\n",
       "    <tr>\n",
       "      <th>Norm</th>\n",
       "      <td>66192</td>\n",
       "      <td>332</td>\n",
       "      <td>26</td>\n",
       "      <td>4</td>\n",
       "    </tr>\n",
       "    <tr>\n",
       "      <th>Activism</th>\n",
       "      <td>63791</td>\n",
       "      <td>2219</td>\n",
       "      <td>471</td>\n",
       "      <td>73</td>\n",
       "    </tr>\n",
       "    <tr>\n",
       "      <th>Problems</th>\n",
       "      <td>58267</td>\n",
       "      <td>7114</td>\n",
       "      <td>1097</td>\n",
       "      <td>76</td>\n",
       "    </tr>\n",
       "    <tr>\n",
       "      <th>Solutions</th>\n",
       "      <td>66023</td>\n",
       "      <td>440</td>\n",
       "      <td>75</td>\n",
       "      <td>16</td>\n",
       "    </tr>\n",
       "    <tr>\n",
       "      <th>Poverty</th>\n",
       "      <td>64694</td>\n",
       "      <td>1554</td>\n",
       "      <td>276</td>\n",
       "      <td>30</td>\n",
       "    </tr>\n",
       "  </tbody>\n",
       "</table>\n",
       "</div>"
      ],
      "text/plain": [
       "               0      1      2     3\n",
       "Female     33878  18717  10555  3404\n",
       "Male       61790   3592   1007   165\n",
       "DRR        65823    635     92     4\n",
       "Norm       66192    332     26     4\n",
       "Activism   63791   2219    471    73\n",
       "Problems   58267   7114   1097    76\n",
       "Solutions  66023    440     75    16\n",
       "Poverty    64694   1554    276    30"
      ]
     },
     "execution_count": 15,
     "metadata": {},
     "output_type": "execute_result"
    }
   ],
   "source": [
    "data2"
   ]
  },
  {
   "cell_type": "code",
   "execution_count": 16,
   "id": "20a95d6e",
   "metadata": {
    "scrolled": false
   },
   "outputs": [
    {
     "data": {
      "text/plain": [
       "<Axes: xlabel='Female'>"
      ]
     },
     "execution_count": 16,
     "metadata": {},
     "output_type": "execute_result"
    },
    {
     "data": {
      "image/png": "[encoded data removed]",
      "text/plain": [
       "<Figure size 640x480 with 1 Axes>"
      ]
     },
     "metadata": {},
     "output_type": "display_data"
    }
   ],
   "source": [
    "#Bar chart of female presence\n",
    "data1['Female'].value_counts()[data1['Female'].unique()].plot(kind='bar')"
   ]
  },
  {
   "cell_type": "code",
   "execution_count": 17,
   "id": "ded71f3c",
   "metadata": {},
   "outputs": [
    {
     "data": {
      "text/plain": [
       "<Axes: xlabel='Male'>"
      ]
     },
     "execution_count": 17,
     "metadata": {},
     "output_type": "execute_result"
    },
    {
     "data": {
      "image/png": "[encoded data removed]",
      "text/plain": [
       "<Figure size 640x480 with 1 Axes>"
      ]
     },
     "metadata": {},
     "output_type": "display_data"
    }
   ],
   "source": [
    "data1['Male'].value_counts()[data1['Male'].unique()].plot(kind='bar')"
   ]
  },
  {
   "cell_type": "code",
   "execution_count": 19,
   "id": "940c9c98",
   "metadata": {},
   "outputs": [
    {
     "data": {
      "text/plain": [
       "Female\n",
       "0    33878\n",
       "1    18717\n",
       "2    10555\n",
       "3     3404\n",
       "Name: count, dtype: int64"
      ]
     },
     "execution_count": 19,
     "metadata": {},
     "output_type": "execute_result"
    }
   ],
   "source": [
    "Female = data1['Female'].value_counts()\n",
    "Female"
   ]
  },
  {
   "cell_type": "code",
   "execution_count": 22,
   "id": "f714bd7d",
   "metadata": {},
   "outputs": [],
   "source": [
    "Female = Female.tolist()"
   ]
  },
  {
   "cell_type": "code",
   "execution_count": 24,
   "id": "67dbbb4f",
   "metadata": {},
   "outputs": [],
   "source": [
    "Male = data1['Male'].value_counts()\n",
    "Male = Male.tolist()"
   ]
  },
  {
   "cell_type": "code",
   "execution_count": 27,
   "id": "7631923b",
   "metadata": {},
   "outputs": [
    {
     "data": {
      "image/png": "[encoded data removed]",
      "text/plain": [
       "<Figure size 640x480 with 1 Axes>"
      ]
     },
     "metadata": {},
     "output_type": "display_data"
    }
   ],
   "source": [
    "import numpy as np\n",
    "import matplotlib.pyplot as plt\n",
    "\n",
    "X = [\"No presence\", \"Present once\", \"Present twice\", \"Present thrice\"]\n",
    "\n",
    "Female = data1['Female'].value_counts()\n",
    "Female = Female.tolist()\n",
    "Male = data1['Male'].value_counts()\n",
    "Male = Male.tolist()\n",
    "\n",
    "X_axis = np.arange(len(X))\n",
    "\n",
    "plt.bar(X_axis - 0.2, Female, 0.4, label = 'Female')\n",
    "plt.bar(X_axis + 0.2, Male, 0.4, label = 'Male')\n",
    "\n",
    "plt.xticks(X_axis, X)\n",
    "plt.xlabel(\"Gender presence\")\n",
    "plt.ylabel(\"Coverage counts\")\n",
    "plt.title(\"Gender presence in media coverage\")\n",
    "\n",
    "plt.legend()\n",
    "plt.show()"
   ]
  },
  {
   "cell_type": "code",
   "execution_count": 26,
   "id": "977971c9",
   "metadata": {},
   "outputs": [
    {
     "data": {
      "text/plain": [
       "F_onewayResult(statistic=30889.973087375376, pvalue=0.0)"
      ]
     },
     "execution_count": 26,
     "metadata": {},
     "output_type": "execute_result"
    }
   ],
   "source": [
    "#We can see some apparent difference here, so let's do a mean comparison\n",
    "from scipy.stats import f_oneway\n",
    "f_oneway(data1['Female'],data1['Male'])"
   ]
  },
  {
   "cell_type": "code",
   "execution_count": 27,
   "id": "aee00172-14db-4ee0-a4b5-50b68ac199cb",
   "metadata": {},
   "outputs": [],
   "source": [
    "#the one-way ANOVA test with p-value <0.001 so it signifies that there is difference "
   ]
  },
  {
   "cell_type": "code",
   "execution_count": 30,
   "id": "bc3e8ae2",
   "metadata": {},
   "outputs": [
    {
     "data": {
      "text/html": [
       "<div>\n",
       "<style scoped>\n",
       "    .dataframe tbody tr th:only-of-type {\n",
       "        vertical-align: middle;\n",
       "    }\n",
       "\n",
       "    .dataframe tbody tr th {\n",
       "        vertical-align: top;\n",
       "    }\n",
       "\n",
       "    .dataframe thead th {\n",
       "        text-align: right;\n",
       "    }\n",
       "</style>\n",
       "<table border=\"1\" class=\"dataframe\">\n",
       "  <thead>\n",
       "    <tr style=\"text-align: right;\">\n",
       "      <th></th>\n",
       "      <th>Female</th>\n",
       "      <th>Reach</th>\n",
       "      <th>Engagement</th>\n",
       "      <th>Social Echo Total</th>\n",
       "    </tr>\n",
       "  </thead>\n",
       "  <tbody>\n",
       "    <tr>\n",
       "      <th>0</th>\n",
       "      <td>0</td>\n",
       "      <td>3.533866e+06</td>\n",
       "      <td>0.007970</td>\n",
       "      <td>14.719228</td>\n",
       "    </tr>\n",
       "    <tr>\n",
       "      <th>1</th>\n",
       "      <td>1</td>\n",
       "      <td>2.827150e+06</td>\n",
       "      <td>0.011220</td>\n",
       "      <td>9.288561</td>\n",
       "    </tr>\n",
       "    <tr>\n",
       "      <th>2</th>\n",
       "      <td>2</td>\n",
       "      <td>2.990800e+06</td>\n",
       "      <td>0.004358</td>\n",
       "      <td>10.351682</td>\n",
       "    </tr>\n",
       "    <tr>\n",
       "      <th>3</th>\n",
       "      <td>3</td>\n",
       "      <td>3.723968e+06</td>\n",
       "      <td>0.005582</td>\n",
       "      <td>4.148649</td>\n",
       "    </tr>\n",
       "  </tbody>\n",
       "</table>\n",
       "</div>"
      ],
      "text/plain": [
       "   Female         Reach  Engagement  Social Echo Total\n",
       "0       0  3.533866e+06    0.007970          14.719228\n",
       "1       1  2.827150e+06    0.011220           9.288561\n",
       "2       2  2.990800e+06    0.004358          10.351682\n",
       "3       3  3.723968e+06    0.005582           4.148649"
      ]
     },
     "execution_count": 30,
     "metadata": {},
     "output_type": "execute_result"
    }
   ],
   "source": [
    "#Checking the influence of female presence on reach, engagement and social echo\n",
    "#Desciption of the data\n",
    "data1.groupby('Female', as_index=False)[['Reach', 'Engagement', 'Social Echo Total']].mean()"
   ]
  },
  {
   "cell_type": "code",
   "execution_count": 31,
   "id": "87ae33ac",
   "metadata": {},
   "outputs": [
    {
     "name": "stderr",
     "output_type": "stream",
     "text": [
      "C:\\Users\\lenovo\\anaconda3\\Lib\\site-packages\\seaborn\\_oldcore.py:1498: FutureWarning: is_categorical_dtype is deprecated and will be removed in a future version. Use isinstance(dtype, CategoricalDtype) instead\n",
      "  if pd.api.types.is_categorical_dtype(vector):\n",
      "C:\\Users\\lenovo\\anaconda3\\Lib\\site-packages\\seaborn\\_oldcore.py:1498: FutureWarning: is_categorical_dtype is deprecated and will be removed in a future version. Use isinstance(dtype, CategoricalDtype) instead\n",
      "  if pd.api.types.is_categorical_dtype(vector):\n",
      "C:\\Users\\lenovo\\anaconda3\\Lib\\site-packages\\seaborn\\_oldcore.py:1498: FutureWarning: is_categorical_dtype is deprecated and will be removed in a future version. Use isinstance(dtype, CategoricalDtype) instead\n",
      "  if pd.api.types.is_categorical_dtype(vector):\n"
     ]
    },
    {
     "data": {
      "image/png": "[encoded data removed]",
      "text/plain": [
       "<Figure size 640x480 with 1 Axes>"
      ]
     },
     "metadata": {},
     "output_type": "display_data"
    }
   ],
   "source": [
    "#Let's visualize the relation between Reach and female mention here\n",
    "import seaborn as sns\n",
    "\n",
    "fig = sns.pointplot(x='Female', y = 'Reach', data = data1)\n",
    "sns.despine()"
   ]
  },
  {
   "cell_type": "code",
   "execution_count": 32,
   "id": "037b3bf8-61f8-4cf4-9216-d057974ccd03",
   "metadata": {},
   "outputs": [
    {
     "data": {
      "text/html": [
       "<div>\n",
       "<style scoped>\n",
       "    .dataframe tbody tr th:only-of-type {\n",
       "        vertical-align: middle;\n",
       "    }\n",
       "\n",
       "    .dataframe tbody tr th {\n",
       "        vertical-align: top;\n",
       "    }\n",
       "\n",
       "    .dataframe thead th {\n",
       "        text-align: right;\n",
       "    }\n",
       "</style>\n",
       "<table border=\"1\" class=\"dataframe\">\n",
       "  <thead>\n",
       "    <tr style=\"text-align: right;\">\n",
       "      <th></th>\n",
       "      <th>sum_sq</th>\n",
       "      <th>df</th>\n",
       "      <th>F</th>\n",
       "      <th>PR(&gt;F)</th>\n",
       "    </tr>\n",
       "  </thead>\n",
       "  <tbody>\n",
       "    <tr>\n",
       "      <th>Female</th>\n",
       "      <td>1.495369e+15</td>\n",
       "      <td>1.0</td>\n",
       "      <td>18.992149</td>\n",
       "      <td>0.000013</td>\n",
       "    </tr>\n",
       "    <tr>\n",
       "      <th>Residual</th>\n",
       "      <td>5.240049e+18</td>\n",
       "      <td>66552.0</td>\n",
       "      <td>NaN</td>\n",
       "      <td>NaN</td>\n",
       "    </tr>\n",
       "  </tbody>\n",
       "</table>\n",
       "</div>"
      ],
      "text/plain": [
       "                sum_sq       df          F    PR(>F)\n",
       "Female    1.495369e+15      1.0  18.992149  0.000013\n",
       "Residual  5.240049e+18  66552.0        NaN       NaN"
      ]
     },
     "execution_count": 32,
     "metadata": {},
     "output_type": "execute_result"
    }
   ],
   "source": [
    "#let's do an ANOVA to see\n",
    "import statsmodels.api as sm\n",
    "from statsmodels.formula.api import ols\n",
    "\n",
    "formula = 'Reach ~ Female'\n",
    "\n",
    "model = ols(formula, data=data1).fit()\n",
    "\n",
    "aov_table = sm.stats.anova_lm(model, typ=2)\n",
    "aov_table"
   ]
  },
  {
   "cell_type": "code",
   "execution_count": 33,
   "id": "40ff1ce9",
   "metadata": {},
   "outputs": [
    {
     "data": {
      "text/html": [
       "<div>\n",
       "<style scoped>\n",
       "    .dataframe tbody tr th:only-of-type {\n",
       "        vertical-align: middle;\n",
       "    }\n",
       "\n",
       "    .dataframe tbody tr th {\n",
       "        vertical-align: top;\n",
       "    }\n",
       "\n",
       "    .dataframe thead th {\n",
       "        text-align: right;\n",
       "    }\n",
       "</style>\n",
       "<table border=\"1\" class=\"dataframe\">\n",
       "  <thead>\n",
       "    <tr style=\"text-align: right;\">\n",
       "      <th></th>\n",
       "      <th>sum_sq</th>\n",
       "      <th>df</th>\n",
       "      <th>F</th>\n",
       "      <th>PR(&gt;F)</th>\n",
       "    </tr>\n",
       "  </thead>\n",
       "  <tbody>\n",
       "    <tr>\n",
       "      <th>Female</th>\n",
       "      <td>0.047760</td>\n",
       "      <td>1.0</td>\n",
       "      <td>0.942492</td>\n",
       "      <td>0.331641</td>\n",
       "    </tr>\n",
       "    <tr>\n",
       "      <th>Residual</th>\n",
       "      <td>3372.489322</td>\n",
       "      <td>66552.0</td>\n",
       "      <td>NaN</td>\n",
       "      <td>NaN</td>\n",
       "    </tr>\n",
       "  </tbody>\n",
       "</table>\n",
       "</div>"
      ],
      "text/plain": [
       "               sum_sq       df         F    PR(>F)\n",
       "Female       0.047760      1.0  0.942492  0.331641\n",
       "Residual  3372.489322  66552.0       NaN       NaN"
      ]
     },
     "execution_count": 33,
     "metadata": {},
     "output_type": "execute_result"
    }
   ],
   "source": [
    "formula = 'Engagement ~ Female'\n",
    "\n",
    "model = ols(formula, data=data1).fit()\n",
    "\n",
    "aov_table = sm.stats.anova_lm(model, typ=2)\n",
    "aov_table"
   ]
  },
  {
   "cell_type": "code",
   "execution_count": 34,
   "id": "d7e09094-2131-4165-ba85-f46445489917",
   "metadata": {},
   "outputs": [
    {
     "data": {
      "text/html": [
       "<div>\n",
       "<style scoped>\n",
       "    .dataframe tbody tr th:only-of-type {\n",
       "        vertical-align: middle;\n",
       "    }\n",
       "\n",
       "    .dataframe tbody tr th {\n",
       "        vertical-align: top;\n",
       "    }\n",
       "\n",
       "    .dataframe thead th {\n",
       "        text-align: right;\n",
       "    }\n",
       "</style>\n",
       "<table border=\"1\" class=\"dataframe\">\n",
       "  <thead>\n",
       "    <tr style=\"text-align: right;\">\n",
       "      <th></th>\n",
       "      <th>sum_sq</th>\n",
       "      <th>df</th>\n",
       "      <th>F</th>\n",
       "      <th>PR(&gt;F)</th>\n",
       "    </tr>\n",
       "  </thead>\n",
       "  <tbody>\n",
       "    <tr>\n",
       "      <th>Female</th>\n",
       "      <td>3.376375e+15</td>\n",
       "      <td>1.0</td>\n",
       "      <td>43.039360</td>\n",
       "      <td>5.404134e-11</td>\n",
       "    </tr>\n",
       "    <tr>\n",
       "      <th>Male</th>\n",
       "      <td>1.922039e+16</td>\n",
       "      <td>1.0</td>\n",
       "      <td>245.006368</td>\n",
       "      <td>3.996027e-55</td>\n",
       "    </tr>\n",
       "    <tr>\n",
       "      <th>Residual</th>\n",
       "      <td>5.220829e+18</td>\n",
       "      <td>66551.0</td>\n",
       "      <td>NaN</td>\n",
       "      <td>NaN</td>\n",
       "    </tr>\n",
       "  </tbody>\n",
       "</table>\n",
       "</div>"
      ],
      "text/plain": [
       "                sum_sq       df           F        PR(>F)\n",
       "Female    3.376375e+15      1.0   43.039360  5.404134e-11\n",
       "Male      1.922039e+16      1.0  245.006368  3.996027e-55\n",
       "Residual  5.220829e+18  66551.0         NaN           NaN"
      ]
     },
     "execution_count": 34,
     "metadata": {},
     "output_type": "execute_result"
    }
   ],
   "source": [
    "#let's do another ANOVA to see\n",
    "formula = 'Reach ~ Female+Male'\n",
    "\n",
    "model = ols(formula, data=data1).fit()\n",
    "\n",
    "aov_table = sm.stats.anova_lm(model, typ=2)\n",
    "aov_table"
   ]
  },
  {
   "cell_type": "code",
   "execution_count": 35,
   "id": "ab5a2846",
   "metadata": {},
   "outputs": [
    {
     "data": {
      "text/html": [
       "<div>\n",
       "<style scoped>\n",
       "    .dataframe tbody tr th:only-of-type {\n",
       "        vertical-align: middle;\n",
       "    }\n",
       "\n",
       "    .dataframe tbody tr th {\n",
       "        vertical-align: top;\n",
       "    }\n",
       "\n",
       "    .dataframe thead th {\n",
       "        text-align: right;\n",
       "    }\n",
       "</style>\n",
       "<table border=\"1\" class=\"dataframe\">\n",
       "  <thead>\n",
       "    <tr style=\"text-align: right;\">\n",
       "      <th></th>\n",
       "      <th>sum_sq</th>\n",
       "      <th>df</th>\n",
       "      <th>F</th>\n",
       "      <th>PR(&gt;F)</th>\n",
       "    </tr>\n",
       "  </thead>\n",
       "  <tbody>\n",
       "    <tr>\n",
       "      <th>DRR</th>\n",
       "      <td>9.209031e+13</td>\n",
       "      <td>1.0</td>\n",
       "      <td>1.170993</td>\n",
       "      <td>2.792013e-01</td>\n",
       "    </tr>\n",
       "    <tr>\n",
       "      <th>Norm</th>\n",
       "      <td>1.100937e+14</td>\n",
       "      <td>1.0</td>\n",
       "      <td>1.399918</td>\n",
       "      <td>2.367415e-01</td>\n",
       "    </tr>\n",
       "    <tr>\n",
       "      <th>Activism</th>\n",
       "      <td>1.250361e+14</td>\n",
       "      <td>1.0</td>\n",
       "      <td>1.589921</td>\n",
       "      <td>2.073418e-01</td>\n",
       "    </tr>\n",
       "    <tr>\n",
       "      <th>Problems</th>\n",
       "      <td>7.795457e+15</td>\n",
       "      <td>1.0</td>\n",
       "      <td>99.124691</td>\n",
       "      <td>2.461823e-23</td>\n",
       "    </tr>\n",
       "    <tr>\n",
       "      <th>Solutions</th>\n",
       "      <td>8.842250e+12</td>\n",
       "      <td>1.0</td>\n",
       "      <td>0.112435</td>\n",
       "      <td>7.373894e-01</td>\n",
       "    </tr>\n",
       "    <tr>\n",
       "      <th>Poverty</th>\n",
       "      <td>9.558835e+12</td>\n",
       "      <td>1.0</td>\n",
       "      <td>0.121547</td>\n",
       "      <td>7.273635e-01</td>\n",
       "    </tr>\n",
       "    <tr>\n",
       "      <th>Residual</th>\n",
       "      <td>5.233452e+18</td>\n",
       "      <td>66547.0</td>\n",
       "      <td>NaN</td>\n",
       "      <td>NaN</td>\n",
       "    </tr>\n",
       "  </tbody>\n",
       "</table>\n",
       "</div>"
      ],
      "text/plain": [
       "                 sum_sq       df          F        PR(>F)\n",
       "DRR        9.209031e+13      1.0   1.170993  2.792013e-01\n",
       "Norm       1.100937e+14      1.0   1.399918  2.367415e-01\n",
       "Activism   1.250361e+14      1.0   1.589921  2.073418e-01\n",
       "Problems   7.795457e+15      1.0  99.124691  2.461823e-23\n",
       "Solutions  8.842250e+12      1.0   0.112435  7.373894e-01\n",
       "Poverty    9.558835e+12      1.0   0.121547  7.273635e-01\n",
       "Residual   5.233452e+18  66547.0        NaN           NaN"
      ]
     },
     "execution_count": 35,
     "metadata": {},
     "output_type": "execute_result"
    }
   ],
   "source": [
    "#let's do another ANOVA to see how other variables differ in Reach\n",
    "\n",
    "formula = 'Reach ~ DRR+Norm+Activism+Problems+Solutions+Poverty'\n",
    "\n",
    "model = ols(formula, data=data1).fit()\n",
    "\n",
    "aov_table = sm.stats.anova_lm(model, typ=2)\n",
    "aov_table"
   ]
  },
  {
   "cell_type": "code",
   "execution_count": 36,
   "id": "ff566078",
   "metadata": {},
   "outputs": [
    {
     "name": "stdout",
     "output_type": "stream",
     "text": [
      "                            OLS Regression Results                            \n",
      "==============================================================================\n",
      "Dep. Variable:                  Reach   R-squared:                       0.005\n",
      "Model:                            OLS   Adj. R-squared:                  0.005\n",
      "Method:                 Least Squares   F-statistic:                     44.29\n",
      "Date:                Wed, 29 Nov 2023   Prob (F-statistic):           1.71e-71\n",
      "Time:                        21:37:36   Log-Likelihood:            -1.1590e+06\n",
      "No. Observations:               66554   AIC:                         2.318e+06\n",
      "Df Residuals:                   66545   BIC:                         2.318e+06\n",
      "Df Model:                           8                                         \n",
      "Covariance Type:            nonrobust                                         \n",
      "==============================================================================\n",
      "                 coef    std err          t      P>|t|      [0.025      0.975]\n",
      "------------------------------------------------------------------------------\n",
      "Intercept   3.412e+06    4.8e+04     71.155      0.000    3.32e+06    3.51e+06\n",
      "Female     -2.539e+05   3.85e+04     -6.587      0.000   -3.29e+05   -1.78e+05\n",
      "Male        1.474e+06   9.69e+04     15.200      0.000    1.28e+06    1.66e+06\n",
      "DRR        -2.979e+05   2.76e+05     -1.079      0.281   -8.39e+05    2.43e+05\n",
      "Norm        5.613e+05   4.09e+05      1.373      0.170    -2.4e+05    1.36e+06\n",
      "Activism    2.107e+05   1.31e+05      1.612      0.107   -4.56e+04    4.67e+05\n",
      "Problems   -7.837e+05   8.54e+04     -9.181      0.000   -9.51e+05   -6.16e+05\n",
      "Solutions   5.415e+04   2.99e+05      0.181      0.856   -5.32e+05    6.41e+05\n",
      "Poverty     1.085e+05   1.66e+05      0.654      0.513   -2.16e+05    4.33e+05\n",
      "==============================================================================\n",
      "Omnibus:                    69093.035   Durbin-Watson:                   1.825\n",
      "Prob(Omnibus):                  0.000   Jarque-Bera (JB):          6686416.803\n",
      "Skew:                           5.089   Prob(JB):                         0.00\n",
      "Kurtosis:                      51.037   Cond. No.                         16.8\n",
      "==============================================================================\n",
      "\n",
      "Notes:\n",
      "[1] Standard Errors assume that the covariance matrix of the errors is correctly specified.\n"
     ]
    }
   ],
   "source": [
    "test1= ols('Reach ~ Female+Male+DRR+Norm+Activism+Problems+Solutions+Poverty', data=data1).fit()\n",
    "print(test1.summary())"
   ]
  },
  {
   "cell_type": "code",
   "execution_count": null,
   "id": "987c512d-639f-49e0-bb32-37ce7ba07a53",
   "metadata": {},
   "outputs": [],
   "source": [
    "import scipy.stats as stats\n",
    "# stats f_oneway functions takes the groups as input and returns ANOVA F and p value\n",
    "fvalue, pvalue = stats.f_oneway(data1['Female'], data1['Male'], data1['DRR'], data1['Norm', data1['Activism'], data1['Problems'], data1['Solutions'], data1['Poverty'])\n",
    "print(fvalue, pvalue)\n",
    "# 17.492810457516338 2.639241146210922e-05\n",
    "\n",
    "# get ANOVA table as R like output\n",
    "import statsmodels.api as sm\n",
    "from statsmodels.formula.api import ols\n",
    "\n",
    "# Ordinary Least Squares (OLS) model\n",
    "model = ols('value ~ C(treatments)', data=data1_melt).fit()\n",
    "anova_table = sm.stats.anova_lm(model, typ=2)\n",
    "anova_table\n",
    "# output (ANOVA F and p value)\n",
    "                sum_sq    df         F    PR(>F)\n",
    "C(treatments)  3010.95   3.0  17.49281  0.000026\n",
    "Residual        918.00  16.0       NaN       NaN\n",
    "\n",
    "# ANOVA table using bioinfokit v1.0.3 or later (it uses wrapper script for anova_lm)\n",
    "from bioinfokit.analys import stat\n",
    "res = stat()\n",
    "res.anova_stat(df=data1_melt, res_var='value', anova_model='value ~ C(treatments)')\n",
    "res.anova_summary\n",
    "# output (ANOVA F and p value)\n",
    "                 df   sum_sq   mean_sq         F    PR(>F)\n",
    "C(treatments)   3.0  3010.95  1003.650  17.49281  0.000026\n",
    "Residual       16.0   918.00    57.375       NaN       NaN\n",
    "\n",
    "# note: if the data is balanced (equal sample size for each group), Type 1, 2, and 3 sums of squares\n",
    "# (typ parameter) will produce similar results.\n"
   ]
  },
  {
   "cell_type": "code",
   "execution_count": null,
   "id": "5d0bfe53-a4dc-4e9b-a5a8-4a24dd4633df",
   "metadata": {},
   "outputs": [],
   "source": [
    "#From ANOVA analysis, we know that treatment differences are statistically significant, \n",
    "#but ANOVA does not tell which treatments are significantly different from each other. \n",
    "#To know the pairs of significant different treatments, we will perform multiple pairwise \n",
    "#comparison (post hoc comparison) analysis for all unplanned comparison using Tukey’s honestly \n",
    "#significantly differenced (HSD) test."
   ]
  },
  {
   "cell_type": "code",
   "execution_count": null,
   "id": "76b07535-6b0d-41de-b9ab-12055ee7acd3",
   "metadata": {},
   "outputs": [],
   "source": [
    "# we will use bioinfokit (v1.0.3 or later) for performing tukey HSD test\n",
    "# check documentation here https://github.com/reneshbedre/bioinfokit\n",
    "from bioinfokit.analys import stat\n",
    "# perform multiple pairwise comparison (Tukey's HSD)\n",
    "# unequal sample size data, tukey_hsd uses Tukey-Kramer test\n",
    "res = stat()\n",
    "res.tukey_hsd(df=data1_melt, res_var='value', xfac_var='treatments', anova_model='value ~ C(treatments)')\n",
    "res.tukey_summary\n",
    "\n",
    "# Note: p-value 0.001 from tukey_hsd output should be interpreted as <=0.001"
   ]
  },
  {
   "cell_type": "code",
   "execution_count": 36,
   "id": "83a99010-0837-4bd6-9cfa-f2a51e33daf3",
   "metadata": {},
   "outputs": [],
   "source": [
    "##1. Normality test"
   ]
  },
  {
   "cell_type": "code",
   "execution_count": 24,
   "id": "66a00791-7db6-4f14-9d6a-cd192557c724",
   "metadata": {},
   "outputs": [
    {
     "name": "stdout",
     "output_type": "stream",
     "text": [
      "stat=0.146, p=0.000\n",
      "Probably not Gaussian\n"
     ]
    },
    {
     "name": "stderr",
     "output_type": "stream",
     "text": [
      "/opt/conda/envs/anaconda-panel-2023.05-py310/lib/python3.11/site-packages/scipy/stats/_morestats.py:1882: UserWarning: p-value may not be accurate for N > 5000.\n",
      "  warnings.warn(\"p-value may not be accurate for N > 5000.\")\n"
     ]
    }
   ],
   "source": [
    "# Example of the Shapiro-Wilk Normality Test\n",
    "from scipy.stats import shapiro\n",
    "stat, p = shapiro(data1['Poverty'])\n",
    "print('stat=%.3f, p=%.3f' % (stat, p))\n",
    "if p > 0.05:\n",
    " print('Probably Gaussian')\n",
    "else:\n",
    " print('Probably not Gaussian')"
   ]
  },
  {
   "cell_type": "code",
   "execution_count": 26,
   "id": "4b296dcb-9c27-4cf6-b37f-84a592c29ca4",
   "metadata": {},
   "outputs": [
    {
     "name": "stdout",
     "output_type": "stream",
     "text": [
      "stat=41187.968, p=0.000\n",
      "Probably not Gaussian\n"
     ]
    }
   ],
   "source": [
    "\n",
    "# Example of the D'Agostino's K^2 Normality Test\n",
    "from scipy.stats import normaltest\n",
    "stat, p = normaltest(data1['Problems'])\n",
    "print('stat=%.3f, p=%.3f' % (stat, p))\n",
    "if p > 0.05:\n",
    " print('Probably Gaussian')\n",
    "else:\n",
    " print('Probably not Gaussian')"
   ]
  },
  {
   "cell_type": "code",
   "execution_count": 30,
   "id": "1374b14c-088c-45df-a37b-6323319c9196",
   "metadata": {},
   "outputs": [
    {
     "name": "stdout",
     "output_type": "stream",
     "text": [
      "stat=6180.594\n",
      "Probably not Gaussian at the 15.0% level\n",
      "Probably not Gaussian at the 10.0% level\n",
      "Probably not Gaussian at the 5.0% level\n",
      "Probably not Gaussian at the 2.5% level\n",
      "Probably not Gaussian at the 1.0% level\n"
     ]
    }
   ],
   "source": [
    "# Example of the Anderson-Darling Normality Test\n",
    "from scipy.stats import anderson\n",
    "result = anderson(data1['Female'])\n",
    "print('stat=%.3f' % (result.statistic))\n",
    "for i in range(len(result.critical_values)):\n",
    " sl, cv = result.significance_level[i], result.critical_values[i]\n",
    " if result.statistic < cv:\n",
    "     print('Probably Gaussian at the %.1f%% level' % (sl))\n",
    " else:\n",
    "     print('Probably not Gaussian at the %.1f%% level' % (sl))"
   ]
  },
  {
   "cell_type": "code",
   "execution_count": 32,
   "id": "32821dcf-01dd-4697-a66a-b09a20353eee",
   "metadata": {},
   "outputs": [],
   "source": [
    "#2 Correlation tests"
   ]
  },
  {
   "cell_type": "code",
   "execution_count": 34,
   "id": "3f89f73b-15d4-40d0-8ee3-e56f5890f345",
   "metadata": {},
   "outputs": [
    {
     "name": "stdout",
     "output_type": "stream",
     "text": [
      "stat=0.041, p=0.000\n",
      "Probably dependent\n"
     ]
    }
   ],
   "source": [
    "\n",
    "# Example of the Pearson's Correlation test\n",
    "# Is there corellation between Problems and Solutions\n",
    "from scipy.stats import pearsonr\n",
    "stat, p = pearsonr(data1['Problems'], data1['Solutions'])\n",
    "print('stat=%.3f, p=%.3f' % (stat, p))\n",
    "if p > 0.05:\n",
    " print('Probably independent')\n",
    "else:\n",
    " print('Probably dependent')"
   ]
  },
  {
   "cell_type": "code",
   "execution_count": 40,
   "id": "2daf698e-53b9-444d-a0cb-77973c55c136",
   "metadata": {},
   "outputs": [
    {
     "data": {
      "image/png": "[encoded data removed]",
      "text/plain": [
       "<Figure size 640x480 with 1 Axes>"
      ]
     },
     "metadata": {},
     "output_type": "display_data"
    }
   ],
   "source": []
  },
  {
   "cell_type": "code",
   "execution_count": null,
   "id": "08820316-d266-4ee4-a144-fad7067c2182",
   "metadata": {},
   "outputs": [],
   "source": []
  }
 ],
 "metadata": {
  "kernelspec": {
   "display_name": "Python 3 (ipykernel)",
   "language": "python",
   "name": "python3"
  },
  "language_info": {
   "codemirror_mode": {
    "name": "ipython",
    "version": 3
   },
   "file_extension": ".py",
   "mimetype": "text/x-python",
   "name": "python",
   "nbconvert_exporter": "python",
   "pygments_lexer": "ipython3",
   "version": "3.11.4"
  }
 },
 "nbformat": 4,
 "nbformat_minor": 5
}
